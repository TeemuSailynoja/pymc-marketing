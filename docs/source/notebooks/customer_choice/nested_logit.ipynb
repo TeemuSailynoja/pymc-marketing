{
 "cells": [
  {
   "cell_type": "markdown",
   "metadata": {},
   "source": [
    "## Nested Logit"
   ]
  },
  {
   "cell_type": "code",
   "execution_count": 1,
   "metadata": {},
   "outputs": [],
   "source": [
    "import pandas as pd\n",
    "import pymc as pm\n",
    "import patsy\n",
    "import numpy as np\n",
    "import pytensor.tensor as pt\n",
    "import arviz as az\n",
    "import matplotlib.pyplot as plt\n",
    "%load_ext autoreload\n",
    "%autoreload 2\n",
    "import sys\n",
    "sys.path.append('../../../..')\n",
    "\n",
    "%reload_ext autoreload\n",
    "from pymc_marketing.customer_choice.nested_logit import NestedLogit"
   ]
  },
  {
   "cell_type": "code",
   "execution_count": 2,
   "metadata": {},
   "outputs": [
    {
     "data": {
      "text/html": [
       "<div>\n",
       "<style scoped>\n",
       "    .dataframe tbody tr th:only-of-type {\n",
       "        vertical-align: middle;\n",
       "    }\n",
       "\n",
       "    .dataframe tbody tr th {\n",
       "        vertical-align: top;\n",
       "    }\n",
       "\n",
       "    .dataframe thead th {\n",
       "        text-align: right;\n",
       "    }\n",
       "</style>\n",
       "<table border=\"1\" class=\"dataframe\">\n",
       "  <thead>\n",
       "    <tr style=\"text-align: right;\">\n",
       "      <th></th>\n",
       "      <th>idcase</th>\n",
       "      <th>depvar</th>\n",
       "      <th>ic_gc</th>\n",
       "      <th>ic_gr</th>\n",
       "      <th>ic_ec</th>\n",
       "      <th>ic_er</th>\n",
       "      <th>ic_hp</th>\n",
       "      <th>oc_gc</th>\n",
       "      <th>oc_gr</th>\n",
       "      <th>oc_ec</th>\n",
       "      <th>oc_er</th>\n",
       "      <th>oc_hp</th>\n",
       "      <th>income</th>\n",
       "      <th>agehed</th>\n",
       "      <th>rooms</th>\n",
       "      <th>region</th>\n",
       "    </tr>\n",
       "  </thead>\n",
       "  <tbody>\n",
       "    <tr>\n",
       "      <th>0</th>\n",
       "      <td>1</td>\n",
       "      <td>gc</td>\n",
       "      <td>866.00</td>\n",
       "      <td>962.64</td>\n",
       "      <td>859.90</td>\n",
       "      <td>995.76</td>\n",
       "      <td>1135.50</td>\n",
       "      <td>199.69</td>\n",
       "      <td>151.72</td>\n",
       "      <td>553.34</td>\n",
       "      <td>505.60</td>\n",
       "      <td>237.88</td>\n",
       "      <td>7</td>\n",
       "      <td>25</td>\n",
       "      <td>6</td>\n",
       "      <td>ncostl</td>\n",
       "    </tr>\n",
       "    <tr>\n",
       "      <th>1</th>\n",
       "      <td>2</td>\n",
       "      <td>gc</td>\n",
       "      <td>727.93</td>\n",
       "      <td>758.89</td>\n",
       "      <td>796.82</td>\n",
       "      <td>894.69</td>\n",
       "      <td>968.90</td>\n",
       "      <td>168.66</td>\n",
       "      <td>168.66</td>\n",
       "      <td>520.24</td>\n",
       "      <td>486.49</td>\n",
       "      <td>199.19</td>\n",
       "      <td>5</td>\n",
       "      <td>60</td>\n",
       "      <td>5</td>\n",
       "      <td>scostl</td>\n",
       "    </tr>\n",
       "    <tr>\n",
       "      <th>2</th>\n",
       "      <td>3</td>\n",
       "      <td>gc</td>\n",
       "      <td>599.48</td>\n",
       "      <td>783.05</td>\n",
       "      <td>719.86</td>\n",
       "      <td>900.11</td>\n",
       "      <td>1048.30</td>\n",
       "      <td>165.58</td>\n",
       "      <td>137.80</td>\n",
       "      <td>439.06</td>\n",
       "      <td>404.74</td>\n",
       "      <td>171.47</td>\n",
       "      <td>4</td>\n",
       "      <td>65</td>\n",
       "      <td>2</td>\n",
       "      <td>ncostl</td>\n",
       "    </tr>\n",
       "    <tr>\n",
       "      <th>3</th>\n",
       "      <td>4</td>\n",
       "      <td>er</td>\n",
       "      <td>835.17</td>\n",
       "      <td>793.06</td>\n",
       "      <td>761.25</td>\n",
       "      <td>831.04</td>\n",
       "      <td>1048.70</td>\n",
       "      <td>180.88</td>\n",
       "      <td>147.14</td>\n",
       "      <td>483.00</td>\n",
       "      <td>425.22</td>\n",
       "      <td>222.95</td>\n",
       "      <td>2</td>\n",
       "      <td>50</td>\n",
       "      <td>4</td>\n",
       "      <td>scostl</td>\n",
       "    </tr>\n",
       "    <tr>\n",
       "      <th>4</th>\n",
       "      <td>5</td>\n",
       "      <td>er</td>\n",
       "      <td>755.59</td>\n",
       "      <td>846.29</td>\n",
       "      <td>858.86</td>\n",
       "      <td>985.64</td>\n",
       "      <td>883.05</td>\n",
       "      <td>174.91</td>\n",
       "      <td>138.90</td>\n",
       "      <td>404.41</td>\n",
       "      <td>389.52</td>\n",
       "      <td>178.49</td>\n",
       "      <td>2</td>\n",
       "      <td>25</td>\n",
       "      <td>6</td>\n",
       "      <td>valley</td>\n",
       "    </tr>\n",
       "    <tr>\n",
       "      <th>...</th>\n",
       "      <td>...</td>\n",
       "      <td>...</td>\n",
       "      <td>...</td>\n",
       "      <td>...</td>\n",
       "      <td>...</td>\n",
       "      <td>...</td>\n",
       "      <td>...</td>\n",
       "      <td>...</td>\n",
       "      <td>...</td>\n",
       "      <td>...</td>\n",
       "      <td>...</td>\n",
       "      <td>...</td>\n",
       "      <td>...</td>\n",
       "      <td>...</td>\n",
       "      <td>...</td>\n",
       "      <td>...</td>\n",
       "    </tr>\n",
       "    <tr>\n",
       "      <th>895</th>\n",
       "      <td>896</td>\n",
       "      <td>gc</td>\n",
       "      <td>766.39</td>\n",
       "      <td>877.71</td>\n",
       "      <td>751.59</td>\n",
       "      <td>869.78</td>\n",
       "      <td>942.70</td>\n",
       "      <td>142.61</td>\n",
       "      <td>136.21</td>\n",
       "      <td>474.48</td>\n",
       "      <td>420.65</td>\n",
       "      <td>203.00</td>\n",
       "      <td>6</td>\n",
       "      <td>20</td>\n",
       "      <td>4</td>\n",
       "      <td>mountn</td>\n",
       "    </tr>\n",
       "    <tr>\n",
       "      <th>896</th>\n",
       "      <td>897</td>\n",
       "      <td>gc</td>\n",
       "      <td>1128.50</td>\n",
       "      <td>1167.80</td>\n",
       "      <td>1047.60</td>\n",
       "      <td>1292.60</td>\n",
       "      <td>1297.10</td>\n",
       "      <td>207.40</td>\n",
       "      <td>213.77</td>\n",
       "      <td>705.36</td>\n",
       "      <td>551.61</td>\n",
       "      <td>243.76</td>\n",
       "      <td>7</td>\n",
       "      <td>45</td>\n",
       "      <td>7</td>\n",
       "      <td>scostl</td>\n",
       "    </tr>\n",
       "    <tr>\n",
       "      <th>897</th>\n",
       "      <td>898</td>\n",
       "      <td>gc</td>\n",
       "      <td>787.10</td>\n",
       "      <td>1055.20</td>\n",
       "      <td>842.79</td>\n",
       "      <td>1041.30</td>\n",
       "      <td>1064.80</td>\n",
       "      <td>175.05</td>\n",
       "      <td>141.63</td>\n",
       "      <td>478.86</td>\n",
       "      <td>448.61</td>\n",
       "      <td>254.51</td>\n",
       "      <td>5</td>\n",
       "      <td>60</td>\n",
       "      <td>7</td>\n",
       "      <td>scostl</td>\n",
       "    </tr>\n",
       "    <tr>\n",
       "      <th>898</th>\n",
       "      <td>899</td>\n",
       "      <td>gc</td>\n",
       "      <td>860.56</td>\n",
       "      <td>1081.30</td>\n",
       "      <td>799.76</td>\n",
       "      <td>1123.20</td>\n",
       "      <td>1218.20</td>\n",
       "      <td>211.04</td>\n",
       "      <td>151.31</td>\n",
       "      <td>495.20</td>\n",
       "      <td>401.56</td>\n",
       "      <td>246.48</td>\n",
       "      <td>5</td>\n",
       "      <td>50</td>\n",
       "      <td>6</td>\n",
       "      <td>scostl</td>\n",
       "    </tr>\n",
       "    <tr>\n",
       "      <th>899</th>\n",
       "      <td>900</td>\n",
       "      <td>gc</td>\n",
       "      <td>893.94</td>\n",
       "      <td>1119.90</td>\n",
       "      <td>967.88</td>\n",
       "      <td>1091.70</td>\n",
       "      <td>1387.50</td>\n",
       "      <td>175.80</td>\n",
       "      <td>180.11</td>\n",
       "      <td>518.68</td>\n",
       "      <td>458.53</td>\n",
       "      <td>245.13</td>\n",
       "      <td>2</td>\n",
       "      <td>65</td>\n",
       "      <td>4</td>\n",
       "      <td>ncostl</td>\n",
       "    </tr>\n",
       "  </tbody>\n",
       "</table>\n",
       "<p>900 rows × 16 columns</p>\n",
       "</div>"
      ],
      "text/plain": [
       "     idcase depvar    ic_gc    ic_gr    ic_ec    ic_er    ic_hp   oc_gc  \\\n",
       "0         1     gc   866.00   962.64   859.90   995.76  1135.50  199.69   \n",
       "1         2     gc   727.93   758.89   796.82   894.69   968.90  168.66   \n",
       "2         3     gc   599.48   783.05   719.86   900.11  1048.30  165.58   \n",
       "3         4     er   835.17   793.06   761.25   831.04  1048.70  180.88   \n",
       "4         5     er   755.59   846.29   858.86   985.64   883.05  174.91   \n",
       "..      ...    ...      ...      ...      ...      ...      ...     ...   \n",
       "895     896     gc   766.39   877.71   751.59   869.78   942.70  142.61   \n",
       "896     897     gc  1128.50  1167.80  1047.60  1292.60  1297.10  207.40   \n",
       "897     898     gc   787.10  1055.20   842.79  1041.30  1064.80  175.05   \n",
       "898     899     gc   860.56  1081.30   799.76  1123.20  1218.20  211.04   \n",
       "899     900     gc   893.94  1119.90   967.88  1091.70  1387.50  175.80   \n",
       "\n",
       "      oc_gr   oc_ec   oc_er   oc_hp  income  agehed  rooms  region  \n",
       "0    151.72  553.34  505.60  237.88       7      25      6  ncostl  \n",
       "1    168.66  520.24  486.49  199.19       5      60      5  scostl  \n",
       "2    137.80  439.06  404.74  171.47       4      65      2  ncostl  \n",
       "3    147.14  483.00  425.22  222.95       2      50      4  scostl  \n",
       "4    138.90  404.41  389.52  178.49       2      25      6  valley  \n",
       "..      ...     ...     ...     ...     ...     ...    ...     ...  \n",
       "895  136.21  474.48  420.65  203.00       6      20      4  mountn  \n",
       "896  213.77  705.36  551.61  243.76       7      45      7  scostl  \n",
       "897  141.63  478.86  448.61  254.51       5      60      7  scostl  \n",
       "898  151.31  495.20  401.56  246.48       5      50      6  scostl  \n",
       "899  180.11  518.68  458.53  245.13       2      65      4  ncostl  \n",
       "\n",
       "[900 rows x 16 columns]"
      ]
     },
     "execution_count": 2,
     "metadata": {},
     "output_type": "execute_result"
    }
   ],
   "source": [
    "df = pd.read_csv('../../../../data/choice_wide_heating.csv')\n",
    "df"
   ]
  },
  {
   "cell_type": "markdown",
   "metadata": {},
   "source": [
    "## Single Layer Nesting"
   ]
  },
  {
   "cell_type": "code",
   "execution_count": 3,
   "metadata": {},
   "outputs": [
    {
     "data": {
      "text/plain": [
       "<pymc_marketing.customer_choice.nested_logit.NestedLogit at 0x166412aa0>"
      ]
     },
     "execution_count": 3,
     "metadata": {},
     "output_type": "execute_result"
    }
   ],
   "source": [
    "utility_formulas = ['gc ~ ic_gc + oc_gc | income ', \n",
    "                    'ec ~ ic_ec + oc_ec | income ',\n",
    "                    'gr ~ ic_gr + oc_gr | income ', \n",
    "                    'er ~ ic_er + oc_er | income ', \n",
    "                    'hp ~ ic_hp + oc_hp | income ']\n",
    "\n",
    "\n",
    "nesting_structure = {'central': ['gc', 'ec'], \n",
    "                     'room': ['hp', 'gr', 'er']}\n",
    "\n",
    "\n",
    "nstL = NestedLogit(df, utility_formulas, 'depvar', covariates=['ic', 'oc'], nesting_structure=nesting_structure)\n",
    "nstL"
   ]
  },
  {
   "cell_type": "code",
   "execution_count": 4,
   "metadata": {},
   "outputs": [
    {
     "name": "stdout",
     "output_type": "stream",
     "text": [
      "(900, 5, 2)\n"
     ]
    },
    {
     "data": {
      "image/png": "[encoded data removed]",
      "text/latex": [
       "$\\displaystyle \\left( 900, \\  1\\right)$"
      ],
      "text/plain": [
       "(900, 1)"
      ]
     },
     "execution_count": 4,
     "metadata": {},
     "output_type": "execute_result"
    }
   ],
   "source": [
    "X, F, y = nstL.preprocess_model_data(df, utility_formulas)\n",
    "print(X.shape)\n",
    "F.shape"
   ]
  },
  {
   "cell_type": "code",
   "execution_count": 5,
   "metadata": {},
   "outputs": [
    {
     "data": {
      "text/plain": [
       "{'alts': ['gc', 'ec', 'gr', 'er', 'hp'],\n",
       " 'alts_probs': ['gc', 'ec', 'gr', 'er'],\n",
       " 'alt_covariates': ['ic', 'oc'],\n",
       " 'fixed_covariates': ['income'],\n",
       " 'nests': ['central', 'room'],\n",
       " 'obs': range(0, 900)}"
      ]
     },
     "execution_count": 5,
     "metadata": {},
     "output_type": "execute_result"
    }
   ],
   "source": [
    "coords = nstL.coords\n",
    "coords"
   ]
  },
  {
   "cell_type": "code",
   "execution_count": 6,
   "metadata": {},
   "outputs": [
    {
     "data": {
      "text/plain": [
       "{'top': {'central': array([0, 1]), 'room': array([2, 3, 4])}}"
      ]
     },
     "execution_count": 6,
     "metadata": {},
     "output_type": "execute_result"
    }
   ],
   "source": [
    "nest_indices = nstL.nest_indices\n",
    "nest_indices"
   ]
  },
  {
   "cell_type": "code",
   "execution_count": 7,
   "metadata": {},
   "outputs": [
    {
     "data": {
      "text/plain": [
       "{'central': 0, 'room': 1}"
      ]
     },
     "execution_count": 7,
     "metadata": {},
     "output_type": "execute_result"
    }
   ],
   "source": [
    "lambda_lkup = nstL.lambda_lkup\n",
    "lambda_lkup"
   ]
  },
  {
   "cell_type": "code",
   "execution_count": 8,
   "metadata": {},
   "outputs": [
    {
     "data": {
      "text/latex": [
       "$$\n",
       "            \\begin{array}{rcl}\n",
       "            \\text{alphas} &\\sim & \\operatorname{Normal}(0,~1)\\\\\\text{betas} &\\sim & \\operatorname{Normal}(0,~1)\\\\\\text{lambda\\_nests} &\\sim & \\operatorname{Beta}(2,~2)\\\\\\text{betas\\_fixed\\_} &\\sim & \\operatorname{Normal}(0,~1)\\\\\\text{betas\\_fixed} &\\sim & \\operatorname{Deterministic}(f(\\text{betas\\_fixed\\_}))\\\\\\text{U} &\\sim & \\operatorname{Deterministic}(f(\\text{betas},~\\text{alphas},~\\text{betas\\_fixed\\_}))\\\\\\text{beta\\_fixed\\_top\\_central} &\\sim & \\operatorname{Deterministic}(f(\\text{betas\\_fixed\\_}))\\\\\\text{p\\_y\\_given\\_central} &\\sim & \\operatorname{Deterministic}(f(\\text{lambda\\_nests},~\\text{betas},~\\text{alphas},~\\text{betas\\_fixed\\_}))\\\\\\text{I\\_central} &\\sim & \\operatorname{Deterministic}(f(\\text{lambda\\_nests},~\\text{betas},~\\text{alphas},~\\text{betas\\_fixed\\_}))\\\\\\text{beta\\_fixed\\_top\\_room} &\\sim & \\operatorname{Deterministic}(f(\\text{betas\\_fixed\\_}))\\\\\\text{p\\_y\\_given\\_room} &\\sim & \\operatorname{Deterministic}(f(\\text{lambda\\_nests},~\\text{betas},~\\text{alphas},~\\text{betas\\_fixed\\_}))\\\\\\text{I\\_room} &\\sim & \\operatorname{Deterministic}(f(\\text{lambda\\_nests},~\\text{betas},~\\text{alphas},~\\text{betas\\_fixed\\_}))\\\\\\text{denom\\_top} &\\sim & \\operatorname{Deterministic}(f(\\text{lambda\\_nests},~\\text{betas\\_fixed\\_},~\\text{betas},~\\text{alphas}))\\\\\\text{P\\_central} &\\sim & \\operatorname{Deterministic}(f(\\text{lambda\\_nests},~\\text{betas\\_fixed\\_},~\\text{betas},~\\text{alphas}))\\\\\\text{P\\_room} &\\sim & \\operatorname{Deterministic}(f(\\text{lambda\\_nests},~\\text{betas\\_fixed\\_},~\\text{betas},~\\text{alphas}))\\\\\\text{prod\\_central\\_t} &\\sim & \\operatorname{Deterministic}(f(\\text{lambda\\_nests},~\\text{betas},~\\text{alphas},~\\text{betas\\_fixed\\_}))\\\\\\text{prod\\_room\\_t} &\\sim & \\operatorname{Deterministic}(f(\\text{lambda\\_nests},~\\text{betas},~\\text{alphas},~\\text{betas\\_fixed\\_}))\\\\\\text{P\\_} &\\sim & \\operatorname{Deterministic}(f(\\text{lambda\\_nests},~\\text{betas},~\\text{alphas},~\\text{betas\\_fixed\\_}))\\\\\\text{likelihood} &\\sim & \\operatorname{Categorical}(\\text{P\\_})\n",
       "            \\end{array}\n",
       "            $$"
      ],
      "text/plain": [
       "                alphas ~ Normal(0, 1)\n",
       "                 betas ~ Normal(0, 1)\n",
       "          lambda_nests ~ Beta(2, 2)\n",
       "          betas_fixed_ ~ Normal(0, 1)\n",
       "           betas_fixed ~ Deterministic(f(betas_fixed_))\n",
       "                     U ~ Deterministic(f(betas, alphas, betas_fixed_))\n",
       "beta_fixed_top_central ~ Deterministic(f(betas_fixed_))\n",
       "     p_y_given_central ~ Deterministic(f(lambda_nests, betas, alphas, betas_fixed_))\n",
       "             I_central ~ Deterministic(f(lambda_nests, betas, alphas, betas_fixed_))\n",
       "   beta_fixed_top_room ~ Deterministic(f(betas_fixed_))\n",
       "        p_y_given_room ~ Deterministic(f(lambda_nests, betas, alphas, betas_fixed_))\n",
       "                I_room ~ Deterministic(f(lambda_nests, betas, alphas, betas_fixed_))\n",
       "             denom_top ~ Deterministic(f(lambda_nests, betas_fixed_, betas, alphas))\n",
       "             P_central ~ Deterministic(f(lambda_nests, betas_fixed_, betas, alphas))\n",
       "                P_room ~ Deterministic(f(lambda_nests, betas_fixed_, betas, alphas))\n",
       "        prod_central_t ~ Deterministic(f(lambda_nests, betas, alphas, betas_fixed_))\n",
       "           prod_room_t ~ Deterministic(f(lambda_nests, betas, alphas, betas_fixed_))\n",
       "                    P_ ~ Deterministic(f(lambda_nests, betas, alphas, betas_fixed_))\n",
       "            likelihood ~ Categorical(P_)"
      ]
     },
     "execution_count": 8,
     "metadata": {},
     "output_type": "execute_result"
    }
   ],
   "source": [
    "nstL.build_model(X, F, y)"
   ]
  },
  {
   "cell_type": "code",
   "execution_count": 9,
   "metadata": {},
   "outputs": [
    {
     "name": "stderr",
     "output_type": "stream",
     "text": [
      "Sampling: [alphas, betas, betas_fixed_, lambda_nests, likelihood]\n"
     ]
    },
    {
     "data": {
      "application/vnd.jupyter.widget-view+json": {
       "model_id": "5c30b8ae1a744fb4ab7abf8dca818f8d",
       "version_major": 2,
       "version_minor": 0
      },
      "text/plain": [
       "  0%|          | 0/2000 [00:00<?, ?it/s]"
      ]
     },
     "metadata": {},
     "output_type": "display_data"
    },
    {
     "data": {
      "application/vnd.jupyter.widget-view+json": {
       "model_id": "49b7ccf8f6354c6f9314e431a6b73eb4",
       "version_major": 2,
       "version_minor": 0
      },
      "text/plain": [
       "  0%|          | 0/2000 [00:00<?, ?it/s]"
      ]
     },
     "metadata": {},
     "output_type": "display_data"
    },
    {
     "data": {
      "application/vnd.jupyter.widget-view+json": {
       "model_id": "570e81d78b7f46798ea1c0a466f79094",
       "version_major": 2,
       "version_minor": 0
      },
      "text/plain": [
       "  0%|          | 0/2000 [00:00<?, ?it/s]"
      ]
     },
     "metadata": {},
     "output_type": "display_data"
    },
    {
     "data": {
      "application/vnd.jupyter.widget-view+json": {
       "model_id": "1e9c44ca67484cdd8b675512db729a94",
       "version_major": 2,
       "version_minor": 0
      },
      "text/plain": [
       "  0%|          | 0/2000 [00:00<?, ?it/s]"
      ]
     },
     "metadata": {},
     "output_type": "display_data"
    },
    {
     "name": "stderr",
     "output_type": "stream",
     "text": [
      "Sampling: [likelihood]\n"
     ]
    },
    {
     "data": {
      "application/vnd.jupyter.widget-view+json": {
       "model_id": "928f739bd88a436580d76d36271ac03c",
       "version_major": 2,
       "version_minor": 0
      },
      "text/plain": [
       "Output()"
      ]
     },
     "metadata": {},
     "output_type": "display_data"
    },
    {
     "data": {
      "text/html": [
       "<pre style=\"white-space:pre;overflow-x:auto;line-height:normal;font-family:Menlo,'DejaVu Sans Mono',consolas,'Courier New',monospace\"></pre>\n"
      ],
      "text/plain": []
     },
     "metadata": {},
     "output_type": "display_data"
    }
   ],
   "source": [
    "with nstL.model:\n",
    "    idata = pm.sample_prior_predictive()\n",
    "    idata.extend(pm.sample(\n",
    "        target_accept=.95,\n",
    "        nuts_sampler='numpyro',\n",
    "        idata_kwargs={\"log_likelihood\": True}, \n",
    "        random_seed=101))\n",
    "    idata.extend(pm.sample_posterior_predictive(idata))\n",
    "    "
   ]
  },
  {
   "cell_type": "code",
   "execution_count": 10,
   "metadata": {},
   "outputs": [
    {
     "name": "stderr",
     "output_type": "stream",
     "text": [
      "/Users/nathanielforde/mambaforge/envs/pymc-marketing-dev/lib/python3.10/site-packages/arviz/stats/diagnostics.py:596: RuntimeWarning: invalid value encountered in scalar divide\n",
      "  (between_chain_variance / within_chain_variance + num_samples - 1) / (num_samples)\n",
      "/Users/nathanielforde/mambaforge/envs/pymc-marketing-dev/lib/python3.10/site-packages/arviz/stats/diagnostics.py:991: RuntimeWarning: invalid value encountered in scalar divide\n",
      "  varsd = varvar / evar / 4\n"
     ]
    },
    {
     "data": {
      "text/html": [
       "<div>\n",
       "<style scoped>\n",
       "    .dataframe tbody tr th:only-of-type {\n",
       "        vertical-align: middle;\n",
       "    }\n",
       "\n",
       "    .dataframe tbody tr th {\n",
       "        vertical-align: top;\n",
       "    }\n",
       "\n",
       "    .dataframe thead th {\n",
       "        text-align: right;\n",
       "    }\n",
       "</style>\n",
       "<table border=\"1\" class=\"dataframe\">\n",
       "  <thead>\n",
       "    <tr style=\"text-align: right;\">\n",
       "      <th></th>\n",
       "      <th>mean</th>\n",
       "      <th>sd</th>\n",
       "      <th>hdi_3%</th>\n",
       "      <th>hdi_97%</th>\n",
       "      <th>mcse_mean</th>\n",
       "      <th>mcse_sd</th>\n",
       "      <th>ess_bulk</th>\n",
       "      <th>ess_tail</th>\n",
       "      <th>r_hat</th>\n",
       "    </tr>\n",
       "  </thead>\n",
       "  <tbody>\n",
       "    <tr>\n",
       "      <th>betas[ic]</th>\n",
       "      <td>-0.001</td>\n",
       "      <td>0.001</td>\n",
       "      <td>-0.002</td>\n",
       "      <td>-0.000</td>\n",
       "      <td>0.000</td>\n",
       "      <td>0.000</td>\n",
       "      <td>3278.0</td>\n",
       "      <td>3036.0</td>\n",
       "      <td>1.0</td>\n",
       "    </tr>\n",
       "    <tr>\n",
       "      <th>betas[oc]</th>\n",
       "      <td>-0.005</td>\n",
       "      <td>0.001</td>\n",
       "      <td>-0.008</td>\n",
       "      <td>-0.003</td>\n",
       "      <td>0.000</td>\n",
       "      <td>0.000</td>\n",
       "      <td>2528.0</td>\n",
       "      <td>2867.0</td>\n",
       "      <td>1.0</td>\n",
       "    </tr>\n",
       "    <tr>\n",
       "      <th>alphas[gc]</th>\n",
       "      <td>0.024</td>\n",
       "      <td>0.744</td>\n",
       "      <td>-1.355</td>\n",
       "      <td>1.426</td>\n",
       "      <td>0.016</td>\n",
       "      <td>0.012</td>\n",
       "      <td>2119.0</td>\n",
       "      <td>2434.0</td>\n",
       "      <td>1.0</td>\n",
       "    </tr>\n",
       "    <tr>\n",
       "      <th>alphas[ec]</th>\n",
       "      <td>-0.117</td>\n",
       "      <td>0.751</td>\n",
       "      <td>-1.565</td>\n",
       "      <td>1.236</td>\n",
       "      <td>0.016</td>\n",
       "      <td>0.013</td>\n",
       "      <td>2093.0</td>\n",
       "      <td>2392.0</td>\n",
       "      <td>1.0</td>\n",
       "    </tr>\n",
       "    <tr>\n",
       "      <th>alphas[gr]</th>\n",
       "      <td>0.549</td>\n",
       "      <td>0.315</td>\n",
       "      <td>-0.065</td>\n",
       "      <td>1.131</td>\n",
       "      <td>0.008</td>\n",
       "      <td>0.005</td>\n",
       "      <td>1593.0</td>\n",
       "      <td>2178.0</td>\n",
       "      <td>1.0</td>\n",
       "    </tr>\n",
       "    <tr>\n",
       "      <th>alphas[er]</th>\n",
       "      <td>1.631</td>\n",
       "      <td>0.418</td>\n",
       "      <td>0.881</td>\n",
       "      <td>2.419</td>\n",
       "      <td>0.010</td>\n",
       "      <td>0.006</td>\n",
       "      <td>1811.0</td>\n",
       "      <td>2242.0</td>\n",
       "      <td>1.0</td>\n",
       "    </tr>\n",
       "    <tr>\n",
       "      <th>alphas[hp]</th>\n",
       "      <td>0.012</td>\n",
       "      <td>0.990</td>\n",
       "      <td>-1.775</td>\n",
       "      <td>1.939</td>\n",
       "      <td>0.017</td>\n",
       "      <td>0.018</td>\n",
       "      <td>3484.0</td>\n",
       "      <td>2629.0</td>\n",
       "      <td>1.0</td>\n",
       "    </tr>\n",
       "    <tr>\n",
       "      <th>betas_fixed[gc, income]</th>\n",
       "      <td>-0.099</td>\n",
       "      <td>0.271</td>\n",
       "      <td>-0.640</td>\n",
       "      <td>0.196</td>\n",
       "      <td>0.012</td>\n",
       "      <td>0.018</td>\n",
       "      <td>746.0</td>\n",
       "      <td>629.0</td>\n",
       "      <td>1.0</td>\n",
       "    </tr>\n",
       "    <tr>\n",
       "      <th>betas_fixed[ec, income]</th>\n",
       "      <td>-0.094</td>\n",
       "      <td>0.279</td>\n",
       "      <td>-0.645</td>\n",
       "      <td>0.263</td>\n",
       "      <td>0.013</td>\n",
       "      <td>0.018</td>\n",
       "      <td>781.0</td>\n",
       "      <td>592.0</td>\n",
       "      <td>1.0</td>\n",
       "    </tr>\n",
       "    <tr>\n",
       "      <th>betas_fixed[gr, income]</th>\n",
       "      <td>-0.103</td>\n",
       "      <td>0.060</td>\n",
       "      <td>-0.222</td>\n",
       "      <td>0.005</td>\n",
       "      <td>0.002</td>\n",
       "      <td>0.001</td>\n",
       "      <td>1548.0</td>\n",
       "      <td>1923.0</td>\n",
       "      <td>1.0</td>\n",
       "    </tr>\n",
       "    <tr>\n",
       "      <th>betas_fixed[er, income]</th>\n",
       "      <td>-0.065</td>\n",
       "      <td>0.062</td>\n",
       "      <td>-0.179</td>\n",
       "      <td>0.050</td>\n",
       "      <td>0.002</td>\n",
       "      <td>0.001</td>\n",
       "      <td>1627.0</td>\n",
       "      <td>2266.0</td>\n",
       "      <td>1.0</td>\n",
       "    </tr>\n",
       "    <tr>\n",
       "      <th>betas_fixed[hp, income]</th>\n",
       "      <td>0.000</td>\n",
       "      <td>0.000</td>\n",
       "      <td>0.000</td>\n",
       "      <td>0.000</td>\n",
       "      <td>0.000</td>\n",
       "      <td>NaN</td>\n",
       "      <td>4000.0</td>\n",
       "      <td>4000.0</td>\n",
       "      <td>NaN</td>\n",
       "    </tr>\n",
       "  </tbody>\n",
       "</table>\n",
       "</div>"
      ],
      "text/plain": [
       "                          mean     sd  hdi_3%  hdi_97%  mcse_mean  mcse_sd  \\\n",
       "betas[ic]               -0.001  0.001  -0.002   -0.000      0.000    0.000   \n",
       "betas[oc]               -0.005  0.001  -0.008   -0.003      0.000    0.000   \n",
       "alphas[gc]               0.024  0.744  -1.355    1.426      0.016    0.012   \n",
       "alphas[ec]              -0.117  0.751  -1.565    1.236      0.016    0.013   \n",
       "alphas[gr]               0.549  0.315  -0.065    1.131      0.008    0.005   \n",
       "alphas[er]               1.631  0.418   0.881    2.419      0.010    0.006   \n",
       "alphas[hp]               0.012  0.990  -1.775    1.939      0.017    0.018   \n",
       "betas_fixed[gc, income] -0.099  0.271  -0.640    0.196      0.012    0.018   \n",
       "betas_fixed[ec, income] -0.094  0.279  -0.645    0.263      0.013    0.018   \n",
       "betas_fixed[gr, income] -0.103  0.060  -0.222    0.005      0.002    0.001   \n",
       "betas_fixed[er, income] -0.065  0.062  -0.179    0.050      0.002    0.001   \n",
       "betas_fixed[hp, income]  0.000  0.000   0.000    0.000      0.000      NaN   \n",
       "\n",
       "                         ess_bulk  ess_tail  r_hat  \n",
       "betas[ic]                  3278.0    3036.0    1.0  \n",
       "betas[oc]                  2528.0    2867.0    1.0  \n",
       "alphas[gc]                 2119.0    2434.0    1.0  \n",
       "alphas[ec]                 2093.0    2392.0    1.0  \n",
       "alphas[gr]                 1593.0    2178.0    1.0  \n",
       "alphas[er]                 1811.0    2242.0    1.0  \n",
       "alphas[hp]                 3484.0    2629.0    1.0  \n",
       "betas_fixed[gc, income]     746.0     629.0    1.0  \n",
       "betas_fixed[ec, income]     781.0     592.0    1.0  \n",
       "betas_fixed[gr, income]    1548.0    1923.0    1.0  \n",
       "betas_fixed[er, income]    1627.0    2266.0    1.0  \n",
       "betas_fixed[hp, income]    4000.0    4000.0    NaN  "
      ]
     },
     "execution_count": 10,
     "metadata": {},
     "output_type": "execute_result"
    }
   ],
   "source": [
    "az.summary(idata, var_names=['betas', 'alphas', 'betas_fixed'])"
   ]
  },
  {
   "cell_type": "code",
   "execution_count": null,
   "metadata": {},
   "outputs": [
    {
     "data": {
      "text/plain": [
       "<Axes: xlabel='likelihood'>"
      ]
     },
     "execution_count": 11,
     "metadata": {},
     "output_type": "execute_result"
    },
    {
     "data": {
      "image/png": "[encoded data removed]",
      "text/plain": [
       "<Figure size 640x480 with 1 Axes>"
      ]
     },
     "metadata": {},
     "output_type": "display_data"
    }
   ],
   "source": [
    "az.plot_ppc(idata);"
   ]
  },
  {
   "cell_type": "markdown",
   "metadata": {},
   "source": [
    "## Two Layer Nesting\n"
   ]
  },
  {
   "cell_type": "code",
   "execution_count": 12,
   "metadata": {},
   "outputs": [
    {
     "data": {
      "text/plain": [
       "<pymc_marketing.customer_choice.nested_logit.NestedLogit at 0x318a32140>"
      ]
     },
     "execution_count": 12,
     "metadata": {},
     "output_type": "execute_result"
    }
   ],
   "source": [
    "utility_formulas = ['gc ~ ic_gc + oc_gc | income ', \n",
    "                    'ec ~ ic_ec + oc_ec | income ',\n",
    "                    'gr ~ ic_gr + oc_gr | income ', \n",
    "                    'er ~ ic_er + oc_er | income ', \n",
    "                    'hp ~ ic_hp + oc_hp | income ']\n",
    "\n",
    "nesting_structure = {'central': ['gc', 'ec'], \n",
    "                     'room': {'hp': ['hp'], 'r': ['gr', 'er']}}\n",
    "\n",
    "nstL = NestedLogit(df, utility_formulas, 'depvar', covariates=['ic', 'oc'], nesting_structure=nesting_structure)\n",
    "nstL"
   ]
  },
  {
   "cell_type": "code",
   "execution_count": 13,
   "metadata": {},
   "outputs": [
    {
     "name": "stdout",
     "output_type": "stream",
     "text": [
      "(900, 5, 2)\n"
     ]
    },
    {
     "data": {
      "image/png": "[encoded data removed]",
      "text/latex": [
       "$\\displaystyle \\left( 900, \\  1\\right)$"
      ],
      "text/plain": [
       "(900, 1)"
      ]
     },
     "execution_count": 13,
     "metadata": {},
     "output_type": "execute_result"
    }
   ],
   "source": [
    "X, F, y = nstL.preprocess_model_data(df, utility_formulas)\n",
    "print(X.shape)\n",
    "F.shape"
   ]
  },
  {
   "cell_type": "code",
   "execution_count": 14,
   "metadata": {},
   "outputs": [
    {
     "data": {
      "text/plain": [
       "{'alts': ['gc', 'ec', 'gr', 'er', 'hp'],\n",
       " 'alts_probs': ['gc', 'ec', 'gr', 'er'],\n",
       " 'alt_covariates': ['ic', 'oc'],\n",
       " 'fixed_covariates': ['income'],\n",
       " 'nests': ['central', 'room', 'room_hp', 'room_r'],\n",
       " 'obs': range(0, 900)}"
      ]
     },
     "execution_count": 14,
     "metadata": {},
     "output_type": "execute_result"
    }
   ],
   "source": [
    "coords = nstL.coords\n",
    "coords"
   ]
  },
  {
   "cell_type": "code",
   "execution_count": 15,
   "metadata": {},
   "outputs": [
    {
     "data": {
      "text/plain": [
       "{'top': {'central': array([0, 1]), 'room': array([2, 3, 4])},\n",
       " 'mid': {'room_hp': [4], 'room_r': [2, 3]}}"
      ]
     },
     "execution_count": 15,
     "metadata": {},
     "output_type": "execute_result"
    }
   ],
   "source": [
    "nest_indices = nstL.nest_indices\n",
    "nest_indices"
   ]
  },
  {
   "cell_type": "code",
   "execution_count": 16,
   "metadata": {},
   "outputs": [
    {
     "data": {
      "text/plain": [
       "{'central': 0, 'room': 1, 'room_hp': 2, 'room_r': 3}"
      ]
     },
     "execution_count": 16,
     "metadata": {},
     "output_type": "execute_result"
    }
   ],
   "source": [
    "lambda_lkup = nstL.lambda_lkup\n",
    "lambda_lkup"
   ]
  },
  {
   "cell_type": "code",
   "execution_count": 17,
   "metadata": {},
   "outputs": [
    {
     "data": {
      "text/latex": [
       "$$\n",
       "            \\begin{array}{rcl}\n",
       "            \\text{alphas} &\\sim & \\operatorname{Normal}(0,~1)\\\\\\text{betas} &\\sim & \\operatorname{Normal}(0,~1)\\\\\\text{lambda\\_nests} &\\sim & \\operatorname{Beta}(2,~2)\\\\\\text{betas\\_fixed\\_} &\\sim & \\operatorname{Normal}(0,~1)\\\\\\text{betas\\_fixed} &\\sim & \\operatorname{Deterministic}(f(\\text{betas\\_fixed\\_}))\\\\\\text{U} &\\sim & \\operatorname{Deterministic}(f(\\text{betas},~\\text{alphas},~\\text{betas\\_fixed\\_}))\\\\\\text{beta\\_fixed\\_mid\\_room\\_hp} &\\sim & \\operatorname{Deterministic}(f(\\text{betas\\_fixed\\_}))\\\\\\text{p\\_y\\_given\\_room\\_hp} &\\sim & \\operatorname{Deterministic}(f(\\text{betas},~\\text{alphas},~\\text{betas\\_fixed\\_}))\\\\\\text{I\\_room\\_hp} &\\sim & \\operatorname{Deterministic}(f(\\text{lambda\\_nests},~\\text{betas},~\\text{alphas},~\\text{betas\\_fixed\\_}))\\\\\\text{beta\\_fixed\\_mid\\_room\\_r} &\\sim & \\operatorname{Deterministic}(f(\\text{betas\\_fixed\\_}))\\\\\\text{p\\_y\\_given\\_room\\_r} &\\sim & \\operatorname{Deterministic}(f(\\text{lambda\\_nests},~\\text{betas},~\\text{alphas},~\\text{betas\\_fixed\\_}))\\\\\\text{I\\_room\\_r} &\\sim & \\operatorname{Deterministic}(f(\\text{lambda\\_nests},~\\text{betas},~\\text{alphas},~\\text{betas\\_fixed\\_}))\\\\\\text{denom\\_mid} &\\sim & \\operatorname{Deterministic}(f(\\text{lambda\\_nests},~\\text{betas\\_fixed\\_},~\\text{betas},~\\text{alphas}))\\\\\\text{P\\_room\\_hp} &\\sim & \\operatorname{Deterministic}(f(\\text{lambda\\_nests},~\\text{betas\\_fixed\\_},~\\text{betas},~\\text{alphas}))\\\\\\text{P\\_room\\_r} &\\sim & \\operatorname{Deterministic}(f(\\text{lambda\\_nests},~\\text{betas\\_fixed\\_},~\\text{betas},~\\text{alphas}))\\\\\\text{prod\\_room\\_r\\_m} &\\sim & \\operatorname{Deterministic}(f(\\text{lambda\\_nests},~\\text{betas},~\\text{alphas},~\\text{betas\\_fixed\\_}))\\\\\\text{prod\\_room\\_hp\\_m} &\\sim & \\operatorname{Deterministic}(f(\\text{betas},~\\text{alphas},~\\text{betas\\_fixed\\_},~\\text{lambda\\_nests}))\\\\\\text{P\\_room\\_children} &\\sim & \\operatorname{Deterministic}(f(\\text{lambda\\_nests},~\\text{betas},~\\text{alphas},~\\text{betas\\_fixed\\_}))\\\\\\text{beta\\_fixed\\_top\\_central} &\\sim & \\operatorname{Deterministic}(f(\\text{betas\\_fixed\\_}))\\\\\\text{p\\_y\\_given\\_central} &\\sim & \\operatorname{Deterministic}(f(\\text{lambda\\_nests},~\\text{betas},~\\text{alphas},~\\text{betas\\_fixed\\_}))\\\\\\text{I\\_central} &\\sim & \\operatorname{Deterministic}(f(\\text{lambda\\_nests},~\\text{betas},~\\text{alphas},~\\text{betas\\_fixed\\_}))\\\\\\text{beta\\_fixed\\_top\\_room} &\\sim & \\operatorname{Deterministic}(f(\\text{betas\\_fixed\\_}))\\\\\\text{p\\_y\\_given\\_room} &\\sim & \\operatorname{Deterministic}(f(\\text{lambda\\_nests},~\\text{betas},~\\text{alphas},~\\text{betas\\_fixed\\_}))\\\\\\text{I\\_room} &\\sim & \\operatorname{Deterministic}(f(\\text{lambda\\_nests},~\\text{betas},~\\text{alphas},~\\text{betas\\_fixed\\_}))\\\\\\text{denom\\_top} &\\sim & \\operatorname{Deterministic}(f(\\text{lambda\\_nests},~\\text{betas\\_fixed\\_},~\\text{betas},~\\text{alphas}))\\\\\\text{P\\_central} &\\sim & \\operatorname{Deterministic}(f(\\text{lambda\\_nests},~\\text{betas\\_fixed\\_},~\\text{betas},~\\text{alphas}))\\\\\\text{P\\_room} &\\sim & \\operatorname{Deterministic}(f(\\text{lambda\\_nests},~\\text{betas\\_fixed\\_},~\\text{betas},~\\text{alphas}))\\\\\\text{prod\\_central\\_t} &\\sim & \\operatorname{Deterministic}(f(\\text{lambda\\_nests},~\\text{betas},~\\text{alphas},~\\text{betas\\_fixed\\_}))\\\\\\text{P\\_y\\_given\\_nest\\_mid\\_room} &\\sim & \\operatorname{Deterministic}(f(\\text{lambda\\_nests},~\\text{betas},~\\text{alphas},~\\text{betas\\_fixed\\_}))\\\\\\text{prod\\_room\\_t} &\\sim & \\operatorname{Deterministic}(f(\\text{lambda\\_nests},~\\text{betas\\_fixed\\_},~\\text{betas},~\\text{alphas}))\\\\\\text{P\\_} &\\sim & \\operatorname{Deterministic}(f(\\text{lambda\\_nests},~\\text{betas},~\\text{alphas},~\\text{betas\\_fixed\\_}))\\\\\\text{likelihood} &\\sim & \\operatorname{Categorical}(\\text{P\\_})\n",
       "            \\end{array}\n",
       "            $$"
      ],
      "text/plain": [
       "                 alphas ~ Normal(0, 1)\n",
       "                  betas ~ Normal(0, 1)\n",
       "           lambda_nests ~ Beta(2, 2)\n",
       "           betas_fixed_ ~ Normal(0, 1)\n",
       "            betas_fixed ~ Deterministic(f(betas_fixed_))\n",
       "                      U ~ Deterministic(f(betas, alphas, betas_fixed_))\n",
       " beta_fixed_mid_room_hp ~ Deterministic(f(betas_fixed_))\n",
       "      p_y_given_room_hp ~ Deterministic(f(betas, alphas, betas_fixed_))\n",
       "              I_room_hp ~ Deterministic(f(lambda_nests, betas, alphas, betas_fixed_))\n",
       "  beta_fixed_mid_room_r ~ Deterministic(f(betas_fixed_))\n",
       "       p_y_given_room_r ~ Deterministic(f(lambda_nests, betas, alphas, betas_fixed_))\n",
       "               I_room_r ~ Deterministic(f(lambda_nests, betas, alphas, betas_fixed_))\n",
       "              denom_mid ~ Deterministic(f(lambda_nests, betas_fixed_, betas, alphas))\n",
       "              P_room_hp ~ Deterministic(f(lambda_nests, betas_fixed_, betas, alphas))\n",
       "               P_room_r ~ Deterministic(f(lambda_nests, betas_fixed_, betas, alphas))\n",
       "          prod_room_r_m ~ Deterministic(f(lambda_nests, betas, alphas, betas_fixed_))\n",
       "         prod_room_hp_m ~ Deterministic(f(betas, alphas, betas_fixed_, lambda_nests))\n",
       "        P_room_children ~ Deterministic(f(lambda_nests, betas, alphas, betas_fixed_))\n",
       " beta_fixed_top_central ~ Deterministic(f(betas_fixed_))\n",
       "      p_y_given_central ~ Deterministic(f(lambda_nests, betas, alphas, betas_fixed_))\n",
       "              I_central ~ Deterministic(f(lambda_nests, betas, alphas, betas_fixed_))\n",
       "    beta_fixed_top_room ~ Deterministic(f(betas_fixed_))\n",
       "         p_y_given_room ~ Deterministic(f(lambda_nests, betas, alphas, betas_fixed_))\n",
       "                 I_room ~ Deterministic(f(lambda_nests, betas, alphas, betas_fixed_))\n",
       "              denom_top ~ Deterministic(f(lambda_nests, betas_fixed_, betas, alphas))\n",
       "              P_central ~ Deterministic(f(lambda_nests, betas_fixed_, betas, alphas))\n",
       "                 P_room ~ Deterministic(f(lambda_nests, betas_fixed_, betas, alphas))\n",
       "         prod_central_t ~ Deterministic(f(lambda_nests, betas, alphas, betas_fixed_))\n",
       "P_y_given_nest_mid_room ~ Deterministic(f(lambda_nests, betas, alphas, betas_fixed_))\n",
       "            prod_room_t ~ Deterministic(f(lambda_nests, betas_fixed_, betas, alphas))\n",
       "                     P_ ~ Deterministic(f(lambda_nests, betas, alphas, betas_fixed_))\n",
       "             likelihood ~ Categorical(P_)"
      ]
     },
     "execution_count": 17,
     "metadata": {},
     "output_type": "execute_result"
    }
   ],
   "source": [
    "nstL.build_model(X, F, y)"
   ]
  },
  {
   "cell_type": "code",
   "execution_count": 18,
   "metadata": {},
   "outputs": [
    {
     "name": "stderr",
     "output_type": "stream",
     "text": [
      "Sampling: [alphas, betas, betas_fixed_, lambda_nests, likelihood]\n"
     ]
    },
    {
     "ename": "ValueError",
     "evalue": "__init__ has parameters that are not in the attrs: {'nesting_structure'}. The save and load functionality will not work correctly.",
     "output_type": "error",
     "traceback": [
      "\u001b[0;31m---------------------------------------------------------------------------\u001b[0m",
      "\u001b[0;31mValueError\u001b[0m                                Traceback (most recent call last)",
      "Cell \u001b[0;32mIn[18], line 1\u001b[0m\n\u001b[0;32m----> 1\u001b[0m \u001b[43mnstL\u001b[49m\u001b[38;5;241;43m.\u001b[39;49m\u001b[43msample\u001b[49m\u001b[43m(\u001b[49m\u001b[43m)\u001b[49m\n",
      "File \u001b[0;32m~/Documents/Github/pymc-marketing/pymc_marketing/customer_choice/nested_logit.py:558\u001b[0m, in \u001b[0;36mNestedLogit.sample\u001b[0;34m(self, sample_prior_predictive_kwargs, fit_kwargs, sample_posterior_predictive_kwargs)\u001b[0m\n\u001b[1;32m    555\u001b[0m model \u001b[38;5;241m=\u001b[39m \u001b[38;5;28mself\u001b[39m\u001b[38;5;241m.\u001b[39mbuild_model(X, F, y)\n\u001b[1;32m    556\u001b[0m \u001b[38;5;28mself\u001b[39m\u001b[38;5;241m.\u001b[39mmodel \u001b[38;5;241m=\u001b[39m model\n\u001b[0;32m--> 558\u001b[0m \u001b[38;5;28;43mself\u001b[39;49m\u001b[38;5;241;43m.\u001b[39;49m\u001b[43msample_prior_predictive\u001b[49m\u001b[43m(\u001b[49m\u001b[43mextend_idata\u001b[49m\u001b[38;5;241;43m=\u001b[39;49m\u001b[38;5;28;43;01mTrue\u001b[39;49;00m\u001b[43m,\u001b[49m\u001b[43m \u001b[49m\u001b[43mkwargs\u001b[49m\u001b[38;5;241;43m=\u001b[39;49m\u001b[43msample_prior_predictive_kwargs\u001b[49m\u001b[43m)\u001b[49m\n\u001b[1;32m    559\u001b[0m \u001b[38;5;28mself\u001b[39m\u001b[38;5;241m.\u001b[39mfit(extend_idata\u001b[38;5;241m=\u001b[39m\u001b[38;5;28;01mTrue\u001b[39;00m, kwargs\u001b[38;5;241m=\u001b[39mfit_kwargs)\n\u001b[1;32m    560\u001b[0m \u001b[38;5;28mself\u001b[39m\u001b[38;5;241m.\u001b[39msample_posterior_predictive(extend_idata\u001b[38;5;241m=\u001b[39m\u001b[38;5;28;01mTrue\u001b[39;00m, kwargs\u001b[38;5;241m=\u001b[39msample_posterior_predictive_kwargs)\n",
      "File \u001b[0;32m~/Documents/Github/pymc-marketing/pymc_marketing/customer_choice/nested_logit.py:493\u001b[0m, in \u001b[0;36mNestedLogit.sample_prior_predictive\u001b[0;34m(self, extend_idata, kwargs)\u001b[0m\n\u001b[1;32m    491\u001b[0m \u001b[38;5;28;01mwith\u001b[39;00m \u001b[38;5;28mself\u001b[39m\u001b[38;5;241m.\u001b[39mmodel:  \u001b[38;5;66;03m# sample with new input data\u001b[39;00m\n\u001b[1;32m    492\u001b[0m     prior_pred: az\u001b[38;5;241m.\u001b[39mInferenceData \u001b[38;5;241m=\u001b[39m pm\u001b[38;5;241m.\u001b[39msample_prior_predictive(\u001b[38;5;241m500\u001b[39m, \u001b[38;5;241m*\u001b[39m\u001b[38;5;241m*\u001b[39mkwargs)\n\u001b[0;32m--> 493\u001b[0m     \u001b[38;5;28;43mself\u001b[39;49m\u001b[38;5;241;43m.\u001b[39;49m\u001b[43mset_idata_attrs\u001b[49m\u001b[43m(\u001b[49m\u001b[43mprior_pred\u001b[49m\u001b[43m)\u001b[49m\n\u001b[1;32m    495\u001b[0m \u001b[38;5;28;01mif\u001b[39;00m extend_idata:\n\u001b[1;32m    496\u001b[0m     \u001b[38;5;28;01mif\u001b[39;00m \u001b[38;5;28mself\u001b[39m\u001b[38;5;241m.\u001b[39midata \u001b[38;5;129;01mis\u001b[39;00m \u001b[38;5;129;01mnot\u001b[39;00m \u001b[38;5;28;01mNone\u001b[39;00m:\n",
      "File \u001b[0;32m~/Documents/Github/pymc-marketing/pymc_marketing/model_builder.py:438\u001b[0m, in \u001b[0;36mModelBuilder.set_idata_attrs\u001b[0;34m(self, idata)\u001b[0m\n\u001b[1;32m    433\u001b[0m \u001b[38;5;28;01mif\u001b[39;00m missing_keys \u001b[38;5;241m:=\u001b[39m init_parameters \u001b[38;5;241m-\u001b[39m attrs_keys:\n\u001b[1;32m    434\u001b[0m     msg \u001b[38;5;241m=\u001b[39m (\n\u001b[1;32m    435\u001b[0m         \u001b[38;5;124mf\u001b[39m\u001b[38;5;124m\"\u001b[39m\u001b[38;5;124m__init__ has parameters that are not in the attrs: \u001b[39m\u001b[38;5;132;01m{\u001b[39;00mmissing_keys\u001b[38;5;132;01m}\u001b[39;00m\u001b[38;5;124m. \u001b[39m\u001b[38;5;124m\"\u001b[39m\n\u001b[1;32m    436\u001b[0m         \u001b[38;5;124m\"\u001b[39m\u001b[38;5;124mThe save and load functionality will not work correctly.\u001b[39m\u001b[38;5;124m\"\u001b[39m\n\u001b[1;32m    437\u001b[0m     )\n\u001b[0;32m--> 438\u001b[0m     \u001b[38;5;28;01mraise\u001b[39;00m \u001b[38;5;167;01mValueError\u001b[39;00m(msg)\n\u001b[1;32m    440\u001b[0m idata\u001b[38;5;241m.\u001b[39mattrs \u001b[38;5;241m=\u001b[39m attrs\n\u001b[1;32m    441\u001b[0m \u001b[38;5;28;01mreturn\u001b[39;00m idata\n",
      "\u001b[0;31mValueError\u001b[0m: __init__ has parameters that are not in the attrs: {'nesting_structure'}. The save and load functionality will not work correctly."
     ]
    }
   ],
   "source": [
    "nstL.sample()"
   ]
  },
  {
   "cell_type": "code",
   "execution_count": 19,
   "metadata": {},
   "outputs": [
    {
     "name": "stderr",
     "output_type": "stream",
     "text": [
      "Sampling: [alphas, betas, betas_fixed_, lambda_nests, likelihood]\n"
     ]
    },
    {
     "data": {
      "application/vnd.jupyter.widget-view+json": {
       "model_id": "1cdfd6f3fc004425aca9b474bd1a4edf",
       "version_major": 2,
       "version_minor": 0
      },
      "text/plain": [
       "  0%|          | 0/2000 [00:00<?, ?it/s]"
      ]
     },
     "metadata": {},
     "output_type": "display_data"
    },
    {
     "data": {
      "application/vnd.jupyter.widget-view+json": {
       "model_id": "7586a1fa51f6490693c8a9dff0b5c959",
       "version_major": 2,
       "version_minor": 0
      },
      "text/plain": [
       "  0%|          | 0/2000 [00:00<?, ?it/s]"
      ]
     },
     "metadata": {},
     "output_type": "display_data"
    },
    {
     "data": {
      "application/vnd.jupyter.widget-view+json": {
       "model_id": "e6f2f5484c2a4d3b99013a01cfb9557f",
       "version_major": 2,
       "version_minor": 0
      },
      "text/plain": [
       "  0%|          | 0/2000 [00:00<?, ?it/s]"
      ]
     },
     "metadata": {},
     "output_type": "display_data"
    },
    {
     "data": {
      "application/vnd.jupyter.widget-view+json": {
       "model_id": "548ef71b887f4c97a611b4ac01b40db0",
       "version_major": 2,
       "version_minor": 0
      },
      "text/plain": [
       "  0%|          | 0/2000 [00:00<?, ?it/s]"
      ]
     },
     "metadata": {},
     "output_type": "display_data"
    },
    {
     "name": "stderr",
     "output_type": "stream",
     "text": [
      "Sampling: [likelihood]\n"
     ]
    },
    {
     "data": {
      "application/vnd.jupyter.widget-view+json": {
       "model_id": "d2bbc53c9e3c41dd96530cb5dd423210",
       "version_major": 2,
       "version_minor": 0
      },
      "text/plain": [
       "Output()"
      ]
     },
     "metadata": {},
     "output_type": "display_data"
    },
    {
     "data": {
      "text/html": [
       "<pre style=\"white-space:pre;overflow-x:auto;line-height:normal;font-family:Menlo,'DejaVu Sans Mono',consolas,'Courier New',monospace\"></pre>\n"
      ],
      "text/plain": []
     },
     "metadata": {},
     "output_type": "display_data"
    }
   ],
   "source": [
    "with nstL.model:\n",
    "    idata_m1 = pm.sample_prior_predictive()\n",
    "    idata_m1.extend(pm.sample(\n",
    "        target_accept=.95,\n",
    "        nuts_sampler='numpyro',\n",
    "        idata_kwargs={\"log_likelihood\": True}, \n",
    "        random_seed=101))\n",
    "    idata_m1.extend(pm.sample_posterior_predictive(idata_m1))\n"
   ]
  },
  {
   "cell_type": "code",
   "execution_count": 20,
   "metadata": {},
   "outputs": [
    {
     "name": "stderr",
     "output_type": "stream",
     "text": [
      "/Users/nathanielforde/mambaforge/envs/pymc-marketing-dev/lib/python3.10/site-packages/arviz/stats/diagnostics.py:596: RuntimeWarning: invalid value encountered in scalar divide\n",
      "  (between_chain_variance / within_chain_variance + num_samples - 1) / (num_samples)\n",
      "/Users/nathanielforde/mambaforge/envs/pymc-marketing-dev/lib/python3.10/site-packages/arviz/stats/diagnostics.py:991: RuntimeWarning: invalid value encountered in scalar divide\n",
      "  varsd = varvar / evar / 4\n"
     ]
    },
    {
     "data": {
      "text/html": [
       "<div>\n",
       "<style scoped>\n",
       "    .dataframe tbody tr th:only-of-type {\n",
       "        vertical-align: middle;\n",
       "    }\n",
       "\n",
       "    .dataframe tbody tr th {\n",
       "        vertical-align: top;\n",
       "    }\n",
       "\n",
       "    .dataframe thead th {\n",
       "        text-align: right;\n",
       "    }\n",
       "</style>\n",
       "<table border=\"1\" class=\"dataframe\">\n",
       "  <thead>\n",
       "    <tr style=\"text-align: right;\">\n",
       "      <th></th>\n",
       "      <th>mean</th>\n",
       "      <th>sd</th>\n",
       "      <th>hdi_3%</th>\n",
       "      <th>hdi_97%</th>\n",
       "      <th>mcse_mean</th>\n",
       "      <th>mcse_sd</th>\n",
       "      <th>ess_bulk</th>\n",
       "      <th>ess_tail</th>\n",
       "      <th>r_hat</th>\n",
       "    </tr>\n",
       "  </thead>\n",
       "  <tbody>\n",
       "    <tr>\n",
       "      <th>betas[ic]</th>\n",
       "      <td>-0.003</td>\n",
       "      <td>0.001</td>\n",
       "      <td>-0.004</td>\n",
       "      <td>-0.001</td>\n",
       "      <td>0.000</td>\n",
       "      <td>0.000</td>\n",
       "      <td>4045.0</td>\n",
       "      <td>3240.0</td>\n",
       "      <td>1.0</td>\n",
       "    </tr>\n",
       "    <tr>\n",
       "      <th>betas[oc]</th>\n",
       "      <td>-0.006</td>\n",
       "      <td>0.001</td>\n",
       "      <td>-0.009</td>\n",
       "      <td>-0.003</td>\n",
       "      <td>0.000</td>\n",
       "      <td>0.000</td>\n",
       "      <td>4315.0</td>\n",
       "      <td>3078.0</td>\n",
       "      <td>1.0</td>\n",
       "    </tr>\n",
       "    <tr>\n",
       "      <th>alphas[gc]</th>\n",
       "      <td>-0.114</td>\n",
       "      <td>0.762</td>\n",
       "      <td>-1.572</td>\n",
       "      <td>1.266</td>\n",
       "      <td>0.013</td>\n",
       "      <td>0.012</td>\n",
       "      <td>3544.0</td>\n",
       "      <td>2923.0</td>\n",
       "      <td>1.0</td>\n",
       "    </tr>\n",
       "    <tr>\n",
       "      <th>alphas[ec]</th>\n",
       "      <td>0.108</td>\n",
       "      <td>0.746</td>\n",
       "      <td>-1.357</td>\n",
       "      <td>1.465</td>\n",
       "      <td>0.013</td>\n",
       "      <td>0.012</td>\n",
       "      <td>3489.0</td>\n",
       "      <td>3056.0</td>\n",
       "      <td>1.0</td>\n",
       "    </tr>\n",
       "    <tr>\n",
       "      <th>alphas[gr]</th>\n",
       "      <td>-0.642</td>\n",
       "      <td>0.755</td>\n",
       "      <td>-2.170</td>\n",
       "      <td>0.679</td>\n",
       "      <td>0.014</td>\n",
       "      <td>0.012</td>\n",
       "      <td>2893.0</td>\n",
       "      <td>2712.0</td>\n",
       "      <td>1.0</td>\n",
       "    </tr>\n",
       "    <tr>\n",
       "      <th>alphas[er]</th>\n",
       "      <td>0.651</td>\n",
       "      <td>0.750</td>\n",
       "      <td>-0.714</td>\n",
       "      <td>2.098</td>\n",
       "      <td>0.014</td>\n",
       "      <td>0.012</td>\n",
       "      <td>3007.0</td>\n",
       "      <td>2534.0</td>\n",
       "      <td>1.0</td>\n",
       "    </tr>\n",
       "    <tr>\n",
       "      <th>alphas[hp]</th>\n",
       "      <td>-0.014</td>\n",
       "      <td>0.988</td>\n",
       "      <td>-1.830</td>\n",
       "      <td>1.881</td>\n",
       "      <td>0.014</td>\n",
       "      <td>0.017</td>\n",
       "      <td>5093.0</td>\n",
       "      <td>2875.0</td>\n",
       "      <td>1.0</td>\n",
       "    </tr>\n",
       "    <tr>\n",
       "      <th>betas_fixed[gc, income]</th>\n",
       "      <td>-0.547</td>\n",
       "      <td>0.441</td>\n",
       "      <td>-1.355</td>\n",
       "      <td>0.141</td>\n",
       "      <td>0.012</td>\n",
       "      <td>0.009</td>\n",
       "      <td>1481.0</td>\n",
       "      <td>1961.0</td>\n",
       "      <td>1.0</td>\n",
       "    </tr>\n",
       "    <tr>\n",
       "      <th>betas_fixed[ec, income]</th>\n",
       "      <td>-0.538</td>\n",
       "      <td>0.443</td>\n",
       "      <td>-1.346</td>\n",
       "      <td>0.159</td>\n",
       "      <td>0.012</td>\n",
       "      <td>0.009</td>\n",
       "      <td>1491.0</td>\n",
       "      <td>1874.0</td>\n",
       "      <td>1.0</td>\n",
       "    </tr>\n",
       "    <tr>\n",
       "      <th>betas_fixed[gr, income]</th>\n",
       "      <td>-0.379</td>\n",
       "      <td>0.290</td>\n",
       "      <td>-0.938</td>\n",
       "      <td>0.018</td>\n",
       "      <td>0.009</td>\n",
       "      <td>0.012</td>\n",
       "      <td>1513.0</td>\n",
       "      <td>959.0</td>\n",
       "      <td>1.0</td>\n",
       "    </tr>\n",
       "    <tr>\n",
       "      <th>betas_fixed[er, income]</th>\n",
       "      <td>-0.349</td>\n",
       "      <td>0.289</td>\n",
       "      <td>-0.900</td>\n",
       "      <td>0.068</td>\n",
       "      <td>0.009</td>\n",
       "      <td>0.012</td>\n",
       "      <td>1566.0</td>\n",
       "      <td>945.0</td>\n",
       "      <td>1.0</td>\n",
       "    </tr>\n",
       "    <tr>\n",
       "      <th>betas_fixed[hp, income]</th>\n",
       "      <td>0.000</td>\n",
       "      <td>0.000</td>\n",
       "      <td>0.000</td>\n",
       "      <td>0.000</td>\n",
       "      <td>0.000</td>\n",
       "      <td>NaN</td>\n",
       "      <td>4000.0</td>\n",
       "      <td>4000.0</td>\n",
       "      <td>NaN</td>\n",
       "    </tr>\n",
       "  </tbody>\n",
       "</table>\n",
       "</div>"
      ],
      "text/plain": [
       "                          mean     sd  hdi_3%  hdi_97%  mcse_mean  mcse_sd  \\\n",
       "betas[ic]               -0.003  0.001  -0.004   -0.001      0.000    0.000   \n",
       "betas[oc]               -0.006  0.001  -0.009   -0.003      0.000    0.000   \n",
       "alphas[gc]              -0.114  0.762  -1.572    1.266      0.013    0.012   \n",
       "alphas[ec]               0.108  0.746  -1.357    1.465      0.013    0.012   \n",
       "alphas[gr]              -0.642  0.755  -2.170    0.679      0.014    0.012   \n",
       "alphas[er]               0.651  0.750  -0.714    2.098      0.014    0.012   \n",
       "alphas[hp]              -0.014  0.988  -1.830    1.881      0.014    0.017   \n",
       "betas_fixed[gc, income] -0.547  0.441  -1.355    0.141      0.012    0.009   \n",
       "betas_fixed[ec, income] -0.538  0.443  -1.346    0.159      0.012    0.009   \n",
       "betas_fixed[gr, income] -0.379  0.290  -0.938    0.018      0.009    0.012   \n",
       "betas_fixed[er, income] -0.349  0.289  -0.900    0.068      0.009    0.012   \n",
       "betas_fixed[hp, income]  0.000  0.000   0.000    0.000      0.000      NaN   \n",
       "\n",
       "                         ess_bulk  ess_tail  r_hat  \n",
       "betas[ic]                  4045.0    3240.0    1.0  \n",
       "betas[oc]                  4315.0    3078.0    1.0  \n",
       "alphas[gc]                 3544.0    2923.0    1.0  \n",
       "alphas[ec]                 3489.0    3056.0    1.0  \n",
       "alphas[gr]                 2893.0    2712.0    1.0  \n",
       "alphas[er]                 3007.0    2534.0    1.0  \n",
       "alphas[hp]                 5093.0    2875.0    1.0  \n",
       "betas_fixed[gc, income]    1481.0    1961.0    1.0  \n",
       "betas_fixed[ec, income]    1491.0    1874.0    1.0  \n",
       "betas_fixed[gr, income]    1513.0     959.0    1.0  \n",
       "betas_fixed[er, income]    1566.0     945.0    1.0  \n",
       "betas_fixed[hp, income]    4000.0    4000.0    NaN  "
      ]
     },
     "execution_count": 20,
     "metadata": {},
     "output_type": "execute_result"
    }
   ],
   "source": [
    "az.summary(idata_m1, var_names=['betas', 'alphas', 'betas_fixed'])"
   ]
  },
  {
   "cell_type": "code",
   "execution_count": 21,
   "metadata": {},
   "outputs": [
    {
     "data": {
      "text/html": [
       "<div>\n",
       "<style scoped>\n",
       "    .dataframe tbody tr th:only-of-type {\n",
       "        vertical-align: middle;\n",
       "    }\n",
       "\n",
       "    .dataframe tbody tr th {\n",
       "        vertical-align: top;\n",
       "    }\n",
       "\n",
       "    .dataframe thead th {\n",
       "        text-align: right;\n",
       "    }\n",
       "</style>\n",
       "<table border=\"1\" class=\"dataframe\">\n",
       "  <thead>\n",
       "    <tr style=\"text-align: right;\">\n",
       "      <th></th>\n",
       "      <th>rank</th>\n",
       "      <th>elpd_loo</th>\n",
       "      <th>p_loo</th>\n",
       "      <th>elpd_diff</th>\n",
       "      <th>weight</th>\n",
       "      <th>se</th>\n",
       "      <th>dse</th>\n",
       "      <th>warning</th>\n",
       "      <th>scale</th>\n",
       "    </tr>\n",
       "  </thead>\n",
       "  <tbody>\n",
       "    <tr>\n",
       "      <th>2 level</th>\n",
       "      <td>0</td>\n",
       "      <td>-1012.378574</td>\n",
       "      <td>8.557299</td>\n",
       "      <td>0.000000</td>\n",
       "      <td>0.873409</td>\n",
       "      <td>28.002629</td>\n",
       "      <td>0.000000</td>\n",
       "      <td>False</td>\n",
       "      <td>log</td>\n",
       "    </tr>\n",
       "    <tr>\n",
       "      <th>1 level</th>\n",
       "      <td>1</td>\n",
       "      <td>-1015.041750</td>\n",
       "      <td>9.460162</td>\n",
       "      <td>2.663176</td>\n",
       "      <td>0.126591</td>\n",
       "      <td>28.006250</td>\n",
       "      <td>2.694811</td>\n",
       "      <td>False</td>\n",
       "      <td>log</td>\n",
       "    </tr>\n",
       "  </tbody>\n",
       "</table>\n",
       "</div>"
      ],
      "text/plain": [
       "         rank     elpd_loo     p_loo  elpd_diff    weight         se  \\\n",
       "2 level     0 -1012.378574  8.557299   0.000000  0.873409  28.002629   \n",
       "1 level     1 -1015.041750  9.460162   2.663176  0.126591  28.006250   \n",
       "\n",
       "              dse  warning scale  \n",
       "2 level  0.000000    False   log  \n",
       "1 level  2.694811    False   log  "
      ]
     },
     "execution_count": 21,
     "metadata": {},
     "output_type": "execute_result"
    }
   ],
   "source": [
    "compare_df = az.compare({'1 level': idata, '2 level': idata_m1})\n",
    "compare_df"
   ]
  },
  {
   "cell_type": "code",
   "execution_count": 22,
   "metadata": {},
   "outputs": [
    {
     "data": {
      "text/plain": [
       "array([<Axes: xlabel='likelihood'>], dtype=object)"
      ]
     },
     "execution_count": 22,
     "metadata": {},
     "output_type": "execute_result"
    },
    {
     "data": {
      "image/png": "[encoded data removed]",
      "text/plain": [
       "<Figure size 2000x600 with 2 Axes>"
      ]
     },
     "metadata": {},
     "output_type": "display_data"
    }
   ],
   "source": [
    "fig, axs = plt.subplots(1,2, figsize=(20, 6))\n",
    "axs = axs.flatten()\n",
    "az.plot_ppc(idata, ax=axs[0])\n",
    "az.plot_ppc(idata_m1, ax = axs[1])"
   ]
  },
  {
   "cell_type": "markdown",
   "metadata": {},
   "source": [
    "## Experimental"
   ]
  },
  {
   "cell_type": "code",
   "execution_count": 9,
   "metadata": {},
   "outputs": [],
   "source": [
    "N = df.shape[0]\n",
    "\n",
    "def make_exp_nest(U, W, betas_fixed, lambdas_nests, nest, level='top'):\n",
    "    if '_' in nest:\n",
    "        parent, child = nest.split('_')\n",
    "    else: \n",
    "        parent = None\n",
    "    y_nest = U[:, nest_indices[level][nest]]\n",
    "    betas_fixed_ = betas_fixed[nest_indices[level][nest], :]\n",
    "    betas_fixed_ = pm.Deterministic(f'beta_fixed_{level}_{nest}', pt.set_subtensor(betas_fixed_[-1, :], 0))\n",
    "    \n",
    "    w_nest = pm.math.dot(W, betas_fixed_.T)\n",
    "    if len(nest_indices[level][nest]) > 1:\n",
    "        max_y_nest = pm.math.max(y_nest, axis=0)\n",
    "        P_y_given_nest = pm.Deterministic(\n",
    "            f\"p_y_given_{nest}\",\n",
    "            pm.math.softmax(y_nest / lambdas_nests[lambda_lkup[nest]], axis=1),\n",
    "        )\n",
    "    else:\n",
    "        max_y_nest = pm.math.max(y_nest)\n",
    "        ones = pm.math.ones((N, 1))\n",
    "        P_y_given_nest = pm.Deterministic(f\"p_y_given_{nest}\", ones)\n",
    "    if parent is None:\n",
    "        lambda_ = lambdas_nests[lambda_lkup[nest]]\n",
    "        I_nest = pm.Deterministic(\n",
    "            f\"I_{nest}\", pm.math.logsumexp((y_nest - max_y_nest) / lambda_)\n",
    "        )\n",
    "        W_nest = w_nest + I_nest * lambda_\n",
    "    else:\n",
    "        l1 = lambdas_nests[lambda_lkup[nest]]\n",
    "        l2 = lambdas_nests[lambda_lkup[parent]]\n",
    "        lambdas_ = l1 * l2\n",
    "        I_nest = pm.Deterministic(\n",
    "            f\"I_{nest}\", pm.math.logsumexp((y_nest - max_y_nest) / lambdas_)\n",
    "        )\n",
    "        W_nest = w_nest + I_nest * (lambdas_)\n",
    "\n",
    "    exp_W_nest = pm.math.exp(W_nest)\n",
    "    return exp_W_nest, P_y_given_nest\n",
    "\n",
    "\n",
    "def make_P_nest(U, W, betas_fixed, lambdas_nests, level):\n",
    "    conditional_probs = {}\n",
    "    for n in nest_indices[level].keys():\n",
    "        exp_W_nest, P_y_given_nest = make_exp_nest(U, W, betas_fixed, \n",
    "            lambdas_nests, n, level)\n",
    "        if W is None:\n",
    "            conditional_probs[n] = {'exp': exp_W_nest, 'P_y_given': P_y_given_nest}\n",
    "        else: \n",
    "            exp_W_nest = pm.math.sum(exp_W_nest, axis=1)\n",
    "            conditional_probs[n] = {'exp': exp_W_nest, 'P_y_given': P_y_given_nest}\n",
    "\n",
    "    \n",
    "    denom = pm.Deterministic(f'denom_{level}', pm.math.sum([conditional_probs[n]['exp'] for n in nest_indices[level].keys()], axis=0))\n",
    "    nest_probs = {}\n",
    "    for n in nest_indices[level].keys():\n",
    "        P_nest = pm.Deterministic(f'P_{n}', (conditional_probs[n]['exp'] / denom))\n",
    "        nest_probs[n] = P_nest\n",
    "    return conditional_probs, nest_probs\n",
    "    "
   ]
  },
  {
   "cell_type": "code",
   "execution_count": 10,
   "metadata": {},
   "outputs": [
    {
     "data": {
      "image/svg+xml": [
       "<?xml version=\"1.0\" encoding=\"UTF-8\" standalone=\"no\"?>\n",
       "<!DOCTYPE svg PUBLIC \"-//W3C//DTD SVG 1.1//EN\"\n",
       " \"http://www.w3.org/Graphics/SVG/1.1/DTD/svg11.dtd\">\n",
       "<!-- Generated by graphviz version 12.2.1 (0)\n",
       " -->\n",
       "<!-- Pages: 1 -->\n",
       "<svg width=\"1053pt\" height=\"1126pt\"\n",
       " viewBox=\"0.00 0.00 1053.41 1125.77\" xmlns=\"http://www.w3.org/2000/svg\" xmlns:xlink=\"http://www.w3.org/1999/xlink\">\n",
       "<g id=\"graph0\" class=\"graph\" transform=\"scale(1 1) rotate(0) translate(4 1121.77)\">\n",
       "<polygon fill=\"white\" stroke=\"none\" points=\"-4,4 -4,-1121.77 1049.41,-1121.77 1049.41,4 -4,4\"/>\n",
       "<g id=\"clust1\" class=\"cluster\">\n",
       "<title>clusteralts (5)</title>\n",
       "<path fill=\"none\" stroke=\"black\" d=\"M213.41,-870.63C213.41,-870.63 287.41,-870.63 287.41,-870.63 293.41,-870.63 299.41,-876.63 299.41,-882.63 299.41,-882.63 299.41,-980.45 299.41,-980.45 299.41,-986.45 293.41,-992.45 287.41,-992.45 287.41,-992.45 213.41,-992.45 213.41,-992.45 207.41,-992.45 201.41,-986.45 201.41,-980.45 201.41,-980.45 201.41,-882.63 201.41,-882.63 201.41,-876.63 207.41,-870.63 213.41,-870.63\"/>\n",
       "<text text-anchor=\"middle\" x=\"272.29\" y=\"-877.83\" font-family=\"Times,serif\" font-size=\"14.00\">alts (5)</text>\n",
       "</g>\n",
       "<g id=\"clust2\" class=\"cluster\">\n",
       "<title>clusteralt_covariates (2)</title>\n",
       "<path fill=\"none\" stroke=\"black\" d=\"M319.41,-870.63C319.41,-870.63 405.41,-870.63 405.41,-870.63 411.41,-870.63 417.41,-876.63 417.41,-882.63 417.41,-882.63 417.41,-980.45 417.41,-980.45 417.41,-986.45 411.41,-992.45 405.41,-992.45 405.41,-992.45 319.41,-992.45 319.41,-992.45 313.41,-992.45 307.41,-986.45 307.41,-980.45 307.41,-980.45 307.41,-882.63 307.41,-882.63 307.41,-876.63 313.41,-870.63 319.41,-870.63\"/>\n",
       "<text text-anchor=\"middle\" x=\"362.16\" y=\"-877.83\" font-family=\"Times,serif\" font-size=\"14.00\">alt_covariates (2)</text>\n",
       "</g>\n",
       "<g id=\"clust3\" class=\"cluster\">\n",
       "<title>clusternests (2)</title>\n",
       "<path fill=\"none\" stroke=\"black\" d=\"M562.41,-740.82C562.41,-740.82 682.41,-740.82 682.41,-740.82 688.41,-740.82 694.41,-746.82 694.41,-752.82 694.41,-752.82 694.41,-850.63 694.41,-850.63 694.41,-856.63 688.41,-862.63 682.41,-862.63 682.41,-862.63 562.41,-862.63 562.41,-862.63 556.41,-862.63 550.41,-856.63 550.41,-850.63 550.41,-850.63 550.41,-752.82 550.41,-752.82 550.41,-746.82 556.41,-740.82 562.41,-740.82\"/>\n",
       "<text text-anchor=\"middle\" x=\"663.16\" y=\"-748.02\" font-family=\"Times,serif\" font-size=\"14.00\">nests (2)</text>\n",
       "</g>\n",
       "<g id=\"clust4\" class=\"cluster\">\n",
       "<title>clusterobs (900) x fixed_covariates (1)</title>\n",
       "<path fill=\"none\" stroke=\"black\" d=\"M622.41,-882.54C622.41,-882.54 788.41,-882.54 788.41,-882.54 794.41,-882.54 800.41,-888.54 800.41,-894.54 800.41,-894.54 800.41,-968.54 800.41,-968.54 800.41,-974.54 794.41,-980.54 788.41,-980.54 788.41,-980.54 622.41,-980.54 622.41,-980.54 616.41,-980.54 610.41,-974.54 610.41,-968.54 610.41,-968.54 610.41,-894.54 610.41,-894.54 610.41,-888.54 616.41,-882.54 622.41,-882.54\"/>\n",
       "<text text-anchor=\"middle\" x=\"705.04\" y=\"-889.74\" font-family=\"Times,serif\" font-size=\"14.00\">obs (900) x fixed_covariates (1)</text>\n",
       "</g>\n",
       "<g id=\"clust5\" class=\"cluster\">\n",
       "<title>clusteralts (5) x fixed_covariates (1)</title>\n",
       "<path fill=\"none\" stroke=\"black\" d=\"M437.41,-882.54C437.41,-882.54 590.41,-882.54 590.41,-882.54 596.41,-882.54 602.41,-888.54 602.41,-894.54 602.41,-894.54 602.41,-1097.77 602.41,-1097.77 602.41,-1103.77 596.41,-1109.77 590.41,-1109.77 590.41,-1109.77 437.41,-1109.77 437.41,-1109.77 431.41,-1109.77 425.41,-1103.77 425.41,-1097.77 425.41,-1097.77 425.41,-894.54 425.41,-894.54 425.41,-888.54 431.41,-882.54 437.41,-882.54\"/>\n",
       "<text text-anchor=\"middle\" x=\"513.79\" y=\"-889.74\" font-family=\"Times,serif\" font-size=\"14.00\">alts (5) x fixed_covariates (1)</text>\n",
       "</g>\n",
       "<g id=\"clust6\" class=\"cluster\">\n",
       "<title>clusterobs (900) x alts (5) x alt_covariates (2)</title>\n",
       "<path fill=\"none\" stroke=\"black\" d=\"M820.41,-882.54C820.41,-882.54 1025.41,-882.54 1025.41,-882.54 1031.41,-882.54 1037.41,-888.54 1037.41,-894.54 1037.41,-894.54 1037.41,-968.54 1037.41,-968.54 1037.41,-974.54 1031.41,-980.54 1025.41,-980.54 1025.41,-980.54 820.41,-980.54 820.41,-980.54 814.41,-980.54 808.41,-974.54 808.41,-968.54 808.41,-968.54 808.41,-894.54 808.41,-894.54 808.41,-888.54 814.41,-882.54 820.41,-882.54\"/>\n",
       "<text text-anchor=\"middle\" x=\"922.91\" y=\"-889.74\" font-family=\"Times,serif\" font-size=\"14.00\">obs (900) x alts (5) x alt_covariates (2)</text>\n",
       "</g>\n",
       "<g id=\"clust7\" class=\"cluster\">\n",
       "<title>clusterobs (900)</title>\n",
       "<path fill=\"none\" stroke=\"black\" d=\"M325.41,-8C325.41,-8 427.41,-8 427.41,-8 433.41,-8 439.41,-14 439.41,-20 439.41,-20 439.41,-211.32 439.41,-211.32 439.41,-217.32 433.41,-223.32 427.41,-223.32 427.41,-223.32 325.41,-223.32 325.41,-223.32 319.41,-223.32 313.41,-217.32 313.41,-211.32 313.41,-211.32 313.41,-20 313.41,-20 313.41,-14 319.41,-8 325.41,-8\"/>\n",
       "<text text-anchor=\"middle\" x=\"405.54\" y=\"-15.2\" font-family=\"Times,serif\" font-size=\"14.00\">obs (900)</text>\n",
       "</g>\n",
       "<g id=\"clust8\" class=\"cluster\">\n",
       "<title>clusterobs (900) x alts (5)</title>\n",
       "<path fill=\"none\" stroke=\"black\" d=\"M434.41,-752.73C434.41,-752.73 530.41,-752.73 530.41,-752.73 536.41,-752.73 542.41,-758.73 542.41,-764.73 542.41,-764.73 542.41,-838.73 542.41,-838.73 542.41,-844.73 536.41,-850.73 530.41,-850.73 530.41,-850.73 434.41,-850.73 434.41,-850.73 428.41,-850.73 422.41,-844.73 422.41,-838.73 422.41,-838.73 422.41,-764.73 422.41,-764.73 422.41,-758.73 428.41,-752.73 434.41,-752.73\"/>\n",
       "<text text-anchor=\"middle\" x=\"482.29\" y=\"-759.93\" font-family=\"Times,serif\" font-size=\"14.00\">obs (900) x alts (5)</text>\n",
       "</g>\n",
       "<g id=\"clust9\" class=\"cluster\">\n",
       "<title>cluster2 x 1</title>\n",
       "<path fill=\"none\" stroke=\"black\" d=\"M238.41,-634.82C238.41,-634.82 370.41,-634.82 370.41,-634.82 376.41,-634.82 382.41,-640.82 382.41,-646.82 382.41,-646.82 382.41,-720.82 382.41,-720.82 382.41,-726.82 376.41,-732.82 370.41,-732.82 370.41,-732.82 238.41,-732.82 238.41,-732.82 232.41,-732.82 226.41,-726.82 226.41,-720.82 226.41,-720.82 226.41,-646.82 226.41,-646.82 226.41,-640.82 232.41,-634.82 238.41,-634.82\"/>\n",
       "<text text-anchor=\"middle\" x=\"360.54\" y=\"-642.02\" font-family=\"Times,serif\" font-size=\"14.00\">2 x 1</text>\n",
       "</g>\n",
       "<g id=\"clust10\" class=\"cluster\">\n",
       "<title>cluster900 x 2</title>\n",
       "<path fill=\"none\" stroke=\"black\" d=\"M611.41,-337.32C611.41,-337.32 719.41,-337.32 719.41,-337.32 725.41,-337.32 731.41,-343.32 731.41,-349.32 731.41,-349.32 731.41,-521.32 731.41,-521.32 731.41,-527.32 725.41,-533.32 719.41,-533.32 719.41,-533.32 611.41,-533.32 611.41,-533.32 605.41,-533.32 599.41,-527.32 599.41,-521.32 599.41,-521.32 599.41,-349.32 599.41,-349.32 599.41,-343.32 605.41,-337.32 611.41,-337.32\"/>\n",
       "<text text-anchor=\"middle\" x=\"702.79\" y=\"-344.52\" font-family=\"Times,serif\" font-size=\"14.00\">900 x 2</text>\n",
       "</g>\n",
       "<g id=\"clust11\" class=\"cluster\">\n",
       "<title>cluster3 x 1</title>\n",
       "<path fill=\"none\" stroke=\"black\" d=\"M80.41,-634.82C80.41,-634.82 206.41,-634.82 206.41,-634.82 212.41,-634.82 218.41,-640.82 218.41,-646.82 218.41,-646.82 218.41,-720.82 218.41,-720.82 218.41,-726.82 212.41,-732.82 206.41,-732.82 206.41,-732.82 80.41,-732.82 80.41,-732.82 74.41,-732.82 68.41,-726.82 68.41,-720.82 68.41,-720.82 68.41,-646.82 68.41,-646.82 68.41,-640.82 74.41,-634.82 80.41,-634.82\"/>\n",
       "<text text-anchor=\"middle\" x=\"196.54\" y=\"-642.02\" font-family=\"Times,serif\" font-size=\"14.00\">3 x 1</text>\n",
       "</g>\n",
       "<g id=\"clust12\" class=\"cluster\">\n",
       "<title>cluster900 x 3</title>\n",
       "<path fill=\"none\" stroke=\"black\" d=\"M135.41,-337.32C135.41,-337.32 237.41,-337.32 237.41,-337.32 243.41,-337.32 249.41,-343.32 249.41,-349.32 249.41,-349.32 249.41,-521.32 249.41,-521.32 249.41,-527.32 243.41,-533.32 237.41,-533.32 237.41,-533.32 135.41,-533.32 135.41,-533.32 129.41,-533.32 123.41,-527.32 123.41,-521.32 123.41,-521.32 123.41,-349.32 123.41,-349.32 123.41,-343.32 129.41,-337.32 135.41,-337.32\"/>\n",
       "<text text-anchor=\"middle\" x=\"220.79\" y=\"-344.52\" font-family=\"Times,serif\" font-size=\"14.00\">900 x 3</text>\n",
       "</g>\n",
       "<g id=\"clust13\" class=\"cluster\">\n",
       "<title>cluster900</title>\n",
       "<path fill=\"none\" stroke=\"black\" d=\"M360.41,-435.32C360.41,-435.32 550.41,-435.32 550.41,-435.32 556.41,-435.32 562.41,-441.32 562.41,-447.32 562.41,-447.32 562.41,-614.82 562.41,-614.82 562.41,-620.82 556.41,-626.82 550.41,-626.82 550.41,-626.82 360.41,-626.82 360.41,-626.82 354.41,-626.82 348.41,-620.82 348.41,-614.82 348.41,-614.82 348.41,-447.32 348.41,-447.32 348.41,-441.32 354.41,-435.32 360.41,-435.32\"/>\n",
       "<text text-anchor=\"middle\" x=\"544.29\" y=\"-442.52\" font-family=\"Times,serif\" font-size=\"14.00\">900</text>\n",
       "</g>\n",
       "<g id=\"clust14\" class=\"cluster\">\n",
       "<title>cluster900 x 5</title>\n",
       "<path fill=\"none\" stroke=\"black\" d=\"M335.41,-231.32C335.41,-231.32 417.41,-231.32 417.41,-231.32 423.41,-231.32 429.41,-237.32 429.41,-243.32 429.41,-243.32 429.41,-317.32 429.41,-317.32 429.41,-323.32 423.41,-329.32 417.41,-329.32 417.41,-329.32 335.41,-329.32 335.41,-329.32 329.41,-329.32 323.41,-323.32 323.41,-317.32 323.41,-317.32 323.41,-243.32 323.41,-243.32 323.41,-237.32 329.41,-231.32 335.41,-231.32\"/>\n",
       "<text text-anchor=\"middle\" x=\"400.79\" y=\"-238.52\" font-family=\"Times,serif\" font-size=\"14.00\">900 x 5</text>\n",
       "</g>\n",
       "<!-- alphas -->\n",
       "<g id=\"node1\" class=\"node\">\n",
       "<title>alphas</title>\n",
       "<ellipse fill=\"none\" stroke=\"black\" cx=\"250.41\" cy=\"-943.79\" rx=\"41.01\" ry=\"40.66\"/>\n",
       "<text text-anchor=\"middle\" x=\"250.41\" y=\"-955.24\" font-family=\"Times,serif\" font-size=\"14.00\">alphas</text>\n",
       "<text text-anchor=\"middle\" x=\"250.41\" y=\"-938.74\" font-family=\"Times,serif\" font-size=\"14.00\">~</text>\n",
       "<text text-anchor=\"middle\" x=\"250.41\" y=\"-922.24\" font-family=\"Times,serif\" font-size=\"14.00\">Normal</text>\n",
       "</g>\n",
       "<!-- U -->\n",
       "<g id=\"node10\" class=\"node\">\n",
       "<title>U</title>\n",
       "<polygon fill=\"none\" stroke=\"black\" points=\"534.54,-842.73 444.29,-842.73 444.29,-785.23 534.54,-785.23 534.54,-842.73\"/>\n",
       "<text text-anchor=\"middle\" x=\"489.41\" y=\"-825.43\" font-family=\"Times,serif\" font-size=\"14.00\">U</text>\n",
       "<text text-anchor=\"middle\" x=\"489.41\" y=\"-808.93\" font-family=\"Times,serif\" font-size=\"14.00\">~</text>\n",
       "<text text-anchor=\"middle\" x=\"489.41\" y=\"-792.43\" font-family=\"Times,serif\" font-size=\"14.00\">Deterministic</text>\n",
       "</g>\n",
       "<!-- alphas&#45;&gt;U -->\n",
       "<g id=\"edge7\" class=\"edge\">\n",
       "<title>alphas&#45;&gt;U</title>\n",
       "<path fill=\"none\" stroke=\"black\" d=\"M269.56,-907.65C278.33,-894.4 289.82,-880.22 303.41,-870.63 341.9,-843.5 393.78,-829.41 432.97,-822.2\"/>\n",
       "<polygon fill=\"black\" stroke=\"black\" points=\"433.43,-825.67 442.68,-820.52 432.23,-818.78 433.43,-825.67\"/>\n",
       "</g>\n",
       "<!-- betas -->\n",
       "<g id=\"node2\" class=\"node\">\n",
       "<title>betas</title>\n",
       "<ellipse fill=\"none\" stroke=\"black\" cx=\"368.41\" cy=\"-943.79\" rx=\"41.01\" ry=\"40.66\"/>\n",
       "<text text-anchor=\"middle\" x=\"368.41\" y=\"-955.24\" font-family=\"Times,serif\" font-size=\"14.00\">betas</text>\n",
       "<text text-anchor=\"middle\" x=\"368.41\" y=\"-938.74\" font-family=\"Times,serif\" font-size=\"14.00\">~</text>\n",
       "<text text-anchor=\"middle\" x=\"368.41\" y=\"-922.24\" font-family=\"Times,serif\" font-size=\"14.00\">Normal</text>\n",
       "</g>\n",
       "<!-- betas&#45;&gt;U -->\n",
       "<g id=\"edge5\" class=\"edge\">\n",
       "<title>betas&#45;&gt;U</title>\n",
       "<path fill=\"none\" stroke=\"black\" d=\"M390.51,-909.09C399.45,-896.47 410.29,-882.36 421.41,-870.63 427.98,-863.71 435.4,-856.85 442.85,-850.44\"/>\n",
       "<polygon fill=\"black\" stroke=\"black\" points=\"445,-853.21 450.42,-844.1 440.51,-847.84 445,-853.21\"/>\n",
       "</g>\n",
       "<!-- lambda_nests -->\n",
       "<g id=\"node3\" class=\"node\">\n",
       "<title>lambda_nests</title>\n",
       "<ellipse fill=\"none\" stroke=\"black\" cx=\"622.41\" cy=\"-813.98\" rx=\"63.82\" ry=\"40.66\"/>\n",
       "<text text-anchor=\"middle\" x=\"622.41\" y=\"-825.43\" font-family=\"Times,serif\" font-size=\"14.00\">lambda_nests</text>\n",
       "<text text-anchor=\"middle\" x=\"622.41\" y=\"-808.93\" font-family=\"Times,serif\" font-size=\"14.00\">~</text>\n",
       "<text text-anchor=\"middle\" x=\"622.41\" y=\"-792.43\" font-family=\"Times,serif\" font-size=\"14.00\">Beta</text>\n",
       "</g>\n",
       "<!-- p_y_given_central -->\n",
       "<g id=\"node12\" class=\"node\">\n",
       "<title>p_y_given_central</title>\n",
       "<polygon fill=\"none\" stroke=\"black\" points=\"723.66,-525.32 607.16,-525.32 607.16,-467.82 723.66,-467.82 723.66,-525.32\"/>\n",
       "<text text-anchor=\"middle\" x=\"665.41\" y=\"-508.02\" font-family=\"Times,serif\" font-size=\"14.00\">p_y_given_central</text>\n",
       "<text text-anchor=\"middle\" x=\"665.41\" y=\"-491.52\" font-family=\"Times,serif\" font-size=\"14.00\">~</text>\n",
       "<text text-anchor=\"middle\" x=\"665.41\" y=\"-475.02\" font-family=\"Times,serif\" font-size=\"14.00\">Deterministic</text>\n",
       "</g>\n",
       "<!-- lambda_nests&#45;&gt;p_y_given_central -->\n",
       "<g id=\"edge9\" class=\"edge\">\n",
       "<title>lambda_nests&#45;&gt;p_y_given_central</title>\n",
       "<path fill=\"none\" stroke=\"black\" d=\"M677.12,-792.34C703.07,-779.46 731.59,-760.06 746.41,-732.82 782.85,-665.87 779.71,-629.88 746.41,-561.32 741.15,-550.47 733.04,-540.92 723.96,-532.73\"/>\n",
       "<polygon fill=\"black\" stroke=\"black\" points=\"726.48,-530.27 716.56,-526.56 722,-535.65 726.48,-530.27\"/>\n",
       "</g>\n",
       "<!-- I_central -->\n",
       "<g id=\"node14\" class=\"node\">\n",
       "<title>I_central</title>\n",
       "<polygon fill=\"none\" stroke=\"black\" points=\"590.54,-724.82 500.29,-724.82 500.29,-667.32 590.54,-667.32 590.54,-724.82\"/>\n",
       "<text text-anchor=\"middle\" x=\"545.41\" y=\"-707.52\" font-family=\"Times,serif\" font-size=\"14.00\">I_central</text>\n",
       "<text text-anchor=\"middle\" x=\"545.41\" y=\"-691.02\" font-family=\"Times,serif\" font-size=\"14.00\">~</text>\n",
       "<text text-anchor=\"middle\" x=\"545.41\" y=\"-674.52\" font-family=\"Times,serif\" font-size=\"14.00\">Deterministic</text>\n",
       "</g>\n",
       "<!-- lambda_nests&#45;&gt;I_central -->\n",
       "<g id=\"edge11\" class=\"edge\">\n",
       "<title>lambda_nests&#45;&gt;I_central</title>\n",
       "<path fill=\"none\" stroke=\"black\" d=\"M597.84,-775.98C589.06,-762.76 579.16,-747.86 570.34,-734.59\"/>\n",
       "<polygon fill=\"black\" stroke=\"black\" points=\"573.44,-732.92 564.99,-726.53 567.6,-736.8 573.44,-732.92\"/>\n",
       "</g>\n",
       "<!-- I_room -->\n",
       "<g id=\"node15\" class=\"node\">\n",
       "<title>I_room</title>\n",
       "<polygon fill=\"none\" stroke=\"black\" points=\"482.54,-724.82 392.29,-724.82 392.29,-667.32 482.54,-667.32 482.54,-724.82\"/>\n",
       "<text text-anchor=\"middle\" x=\"437.41\" y=\"-707.52\" font-family=\"Times,serif\" font-size=\"14.00\">I_room</text>\n",
       "<text text-anchor=\"middle\" x=\"437.41\" y=\"-691.02\" font-family=\"Times,serif\" font-size=\"14.00\">~</text>\n",
       "<text text-anchor=\"middle\" x=\"437.41\" y=\"-674.52\" font-family=\"Times,serif\" font-size=\"14.00\">Deterministic</text>\n",
       "</g>\n",
       "<!-- lambda_nests&#45;&gt;I_room -->\n",
       "<g id=\"edge16\" class=\"edge\">\n",
       "<title>lambda_nests&#45;&gt;I_room</title>\n",
       "<path fill=\"none\" stroke=\"black\" d=\"M593.66,-777.49C580.68,-763.85 564.25,-749.48 546.41,-740.82 524.19,-730.03 514.49,-741.63 491.41,-732.82 489.49,-732.08 487.56,-731.27 485.65,-730.39\"/>\n",
       "<polygon fill=\"black\" stroke=\"black\" points=\"487.37,-727.35 476.88,-725.88 484.17,-733.57 487.37,-727.35\"/>\n",
       "</g>\n",
       "<!-- p_y_given_room -->\n",
       "<g id=\"node18\" class=\"node\">\n",
       "<title>p_y_given_room</title>\n",
       "<polygon fill=\"none\" stroke=\"black\" points=\"240.91,-525.32 131.91,-525.32 131.91,-467.82 240.91,-467.82 240.91,-525.32\"/>\n",
       "<text text-anchor=\"middle\" x=\"186.41\" y=\"-508.02\" font-family=\"Times,serif\" font-size=\"14.00\">p_y_given_room</text>\n",
       "<text text-anchor=\"middle\" x=\"186.41\" y=\"-491.52\" font-family=\"Times,serif\" font-size=\"14.00\">~</text>\n",
       "<text text-anchor=\"middle\" x=\"186.41\" y=\"-475.02\" font-family=\"Times,serif\" font-size=\"14.00\">Deterministic</text>\n",
       "</g>\n",
       "<!-- lambda_nests&#45;&gt;p_y_given_room -->\n",
       "<g id=\"edge14\" class=\"edge\">\n",
       "<title>lambda_nests&#45;&gt;p_y_given_room</title>\n",
       "<path fill=\"none\" stroke=\"black\" d=\"M594.88,-777.11C581.88,-763.04 565.11,-748.46 546.41,-740.82 534.02,-735.75 73.8,-742.36 64.41,-732.82 6.84,-674.28 88.82,-583.04 143.76,-533.14\"/>\n",
       "<polygon fill=\"black\" stroke=\"black\" points=\"146.07,-535.77 151.2,-526.5 141.41,-530.55 146.07,-535.77\"/>\n",
       "</g>\n",
       "<!-- P_room -->\n",
       "<g id=\"node19\" class=\"node\">\n",
       "<title>P_room</title>\n",
       "<polygon fill=\"none\" stroke=\"black\" points=\"446.54,-525.32 356.29,-525.32 356.29,-467.82 446.54,-467.82 446.54,-525.32\"/>\n",
       "<text text-anchor=\"middle\" x=\"401.41\" y=\"-508.02\" font-family=\"Times,serif\" font-size=\"14.00\">P_room</text>\n",
       "<text text-anchor=\"middle\" x=\"401.41\" y=\"-491.52\" font-family=\"Times,serif\" font-size=\"14.00\">~</text>\n",
       "<text text-anchor=\"middle\" x=\"401.41\" y=\"-475.02\" font-family=\"Times,serif\" font-size=\"14.00\">Deterministic</text>\n",
       "</g>\n",
       "<!-- lambda_nests&#45;&gt;P_room -->\n",
       "<g id=\"edge27\" class=\"edge\">\n",
       "<title>lambda_nests&#45;&gt;P_room</title>\n",
       "<path fill=\"none\" stroke=\"black\" d=\"M634.18,-773.78C643.19,-736.01 650.7,-678.34 628.41,-634.82 587.79,-555.47 534.48,-574.5 455.41,-533.32 454.32,-532.75 453.22,-532.16 452.11,-531.56\"/>\n",
       "<polygon fill=\"black\" stroke=\"black\" points=\"453.87,-528.53 443.46,-526.57 450.37,-534.59 453.87,-528.53\"/>\n",
       "</g>\n",
       "<!-- denom_top -->\n",
       "<g id=\"node20\" class=\"node\">\n",
       "<title>denom_top</title>\n",
       "<polygon fill=\"none\" stroke=\"black\" points=\"517.54,-618.82 427.29,-618.82 427.29,-561.32 517.54,-561.32 517.54,-618.82\"/>\n",
       "<text text-anchor=\"middle\" x=\"472.41\" y=\"-601.52\" font-family=\"Times,serif\" font-size=\"14.00\">denom_top</text>\n",
       "<text text-anchor=\"middle\" x=\"472.41\" y=\"-585.02\" font-family=\"Times,serif\" font-size=\"14.00\">~</text>\n",
       "<text text-anchor=\"middle\" x=\"472.41\" y=\"-568.52\" font-family=\"Times,serif\" font-size=\"14.00\">Deterministic</text>\n",
       "</g>\n",
       "<!-- lambda_nests&#45;&gt;denom_top -->\n",
       "<g id=\"edge19\" class=\"edge\">\n",
       "<title>lambda_nests&#45;&gt;denom_top</title>\n",
       "<path fill=\"none\" stroke=\"black\" d=\"M628.4,-773.29C632.05,-733.8 631.03,-673.62 599.41,-634.82 582.22,-613.71 554.3,-602.76 529.01,-597.09\"/>\n",
       "<polygon fill=\"black\" stroke=\"black\" points=\"529.98,-593.71 519.49,-595.19 528.61,-600.58 529.98,-593.71\"/>\n",
       "</g>\n",
       "<!-- P_central -->\n",
       "<g id=\"node21\" class=\"node\">\n",
       "<title>P_central</title>\n",
       "<polygon fill=\"none\" stroke=\"black\" points=\"554.54,-525.32 464.29,-525.32 464.29,-467.82 554.54,-467.82 554.54,-525.32\"/>\n",
       "<text text-anchor=\"middle\" x=\"509.41\" y=\"-508.02\" font-family=\"Times,serif\" font-size=\"14.00\">P_central</text>\n",
       "<text text-anchor=\"middle\" x=\"509.41\" y=\"-491.52\" font-family=\"Times,serif\" font-size=\"14.00\">~</text>\n",
       "<text text-anchor=\"middle\" x=\"509.41\" y=\"-475.02\" font-family=\"Times,serif\" font-size=\"14.00\">Deterministic</text>\n",
       "</g>\n",
       "<!-- lambda_nests&#45;&gt;P_central -->\n",
       "<g id=\"edge24\" class=\"edge\">\n",
       "<title>lambda_nests&#45;&gt;P_central</title>\n",
       "<path fill=\"none\" stroke=\"black\" d=\"M649.6,-776.97C657.99,-763.79 666.13,-748.29 670.41,-732.82 690.73,-659.35 713.88,-623.93 670.41,-561.32 650.13,-532.09 628.51,-546.37 595.41,-533.32 585.69,-529.48 575.4,-525.31 565.44,-521.21\"/>\n",
       "<polygon fill=\"black\" stroke=\"black\" points=\"566.79,-517.98 556.21,-517.38 564.11,-524.44 566.79,-517.98\"/>\n",
       "</g>\n",
       "<!-- W -->\n",
       "<g id=\"node4\" class=\"node\">\n",
       "<title>W</title>\n",
       "<path fill=\"lightgrey\" stroke=\"black\" d=\"M660.41,-972.54C660.41,-972.54 630.41,-972.54 630.41,-972.54 624.41,-972.54 618.41,-966.54 618.41,-960.54 618.41,-960.54 618.41,-927.04 618.41,-927.04 618.41,-921.04 624.41,-915.04 630.41,-915.04 630.41,-915.04 660.41,-915.04 660.41,-915.04 666.41,-915.04 672.41,-921.04 672.41,-927.04 672.41,-927.04 672.41,-960.54 672.41,-960.54 672.41,-966.54 666.41,-972.54 660.41,-972.54\"/>\n",
       "<text text-anchor=\"middle\" x=\"645.41\" y=\"-955.24\" font-family=\"Times,serif\" font-size=\"14.00\">W</text>\n",
       "<text text-anchor=\"middle\" x=\"645.41\" y=\"-938.74\" font-family=\"Times,serif\" font-size=\"14.00\">~</text>\n",
       "<text text-anchor=\"middle\" x=\"645.41\" y=\"-922.24\" font-family=\"Times,serif\" font-size=\"14.00\">Data</text>\n",
       "</g>\n",
       "<!-- W&#45;&gt;U -->\n",
       "<g id=\"edge6\" class=\"edge\">\n",
       "<title>W&#45;&gt;U</title>\n",
       "<path fill=\"none\" stroke=\"black\" d=\"M637.31,-914.84C631.32,-899.31 621.53,-881.07 606.41,-870.63 584.27,-855.36 571.04,-873.47 546.41,-862.63 539.11,-859.42 532,-854.98 525.43,-850.08\"/>\n",
       "<polygon fill=\"black\" stroke=\"black\" points=\"528.01,-847.66 518.01,-844.15 523.64,-853.13 528.01,-847.66\"/>\n",
       "</g>\n",
       "<!-- betas_fixed -->\n",
       "<g id=\"node5\" class=\"node\">\n",
       "<title>betas_fixed</title>\n",
       "<polygon fill=\"none\" stroke=\"black\" points=\"536.54,-972.54 446.29,-972.54 446.29,-915.04 536.54,-915.04 536.54,-972.54\"/>\n",
       "<text text-anchor=\"middle\" x=\"491.41\" y=\"-955.24\" font-family=\"Times,serif\" font-size=\"14.00\">betas_fixed</text>\n",
       "<text text-anchor=\"middle\" x=\"491.41\" y=\"-938.74\" font-family=\"Times,serif\" font-size=\"14.00\">~</text>\n",
       "<text text-anchor=\"middle\" x=\"491.41\" y=\"-922.24\" font-family=\"Times,serif\" font-size=\"14.00\">Deterministic</text>\n",
       "</g>\n",
       "<!-- betas_fixed&#45;&gt;U -->\n",
       "<g id=\"edge4\" class=\"edge\">\n",
       "<title>betas_fixed&#45;&gt;U</title>\n",
       "<path fill=\"none\" stroke=\"black\" d=\"M490.98,-914.74C490.7,-897.01 490.34,-873.84 490.03,-854.28\"/>\n",
       "<polygon fill=\"black\" stroke=\"black\" points=\"493.53,-854.42 489.88,-844.47 486.53,-854.53 493.53,-854.42\"/>\n",
       "</g>\n",
       "<!-- betas_fixed_ -->\n",
       "<g id=\"node6\" class=\"node\">\n",
       "<title>betas_fixed_</title>\n",
       "<ellipse fill=\"none\" stroke=\"black\" cx=\"493.41\" cy=\"-1061.11\" rx=\"60.1\" ry=\"40.66\"/>\n",
       "<text text-anchor=\"middle\" x=\"493.41\" y=\"-1072.56\" font-family=\"Times,serif\" font-size=\"14.00\">betas_fixed_</text>\n",
       "<text text-anchor=\"middle\" x=\"493.41\" y=\"-1056.06\" font-family=\"Times,serif\" font-size=\"14.00\">~</text>\n",
       "<text text-anchor=\"middle\" x=\"493.41\" y=\"-1039.56\" font-family=\"Times,serif\" font-size=\"14.00\">Normal</text>\n",
       "</g>\n",
       "<!-- betas_fixed_&#45;&gt;betas_fixed -->\n",
       "<g id=\"edge1\" class=\"edge\">\n",
       "<title>betas_fixed_&#45;&gt;betas_fixed</title>\n",
       "<path fill=\"none\" stroke=\"black\" d=\"M492.72,-1020.1C492.52,-1008.39 492.3,-995.61 492.09,-983.95\"/>\n",
       "<polygon fill=\"black\" stroke=\"black\" points=\"495.6,-984.21 491.93,-974.27 488.6,-984.33 495.6,-984.21\"/>\n",
       "</g>\n",
       "<!-- beta_fixed_top_central -->\n",
       "<g id=\"node11\" class=\"node\">\n",
       "<title>beta_fixed_top_central</title>\n",
       "<polygon fill=\"none\" stroke=\"black\" points=\"374.66,-724.82 234.16,-724.82 234.16,-667.32 374.66,-667.32 374.66,-724.82\"/>\n",
       "<text text-anchor=\"middle\" x=\"304.41\" y=\"-707.52\" font-family=\"Times,serif\" font-size=\"14.00\">beta_fixed_top_central</text>\n",
       "<text text-anchor=\"middle\" x=\"304.41\" y=\"-691.02\" font-family=\"Times,serif\" font-size=\"14.00\">~</text>\n",
       "<text text-anchor=\"middle\" x=\"304.41\" y=\"-674.52\" font-family=\"Times,serif\" font-size=\"14.00\">Deterministic</text>\n",
       "</g>\n",
       "<!-- betas_fixed_&#45;&gt;beta_fixed_top_central -->\n",
       "<g id=\"edge8\" class=\"edge\">\n",
       "<title>betas_fixed_&#45;&gt;beta_fixed_top_central</title>\n",
       "<path fill=\"none\" stroke=\"black\" d=\"M433.57,-1055.08C355.76,-1047.15 226.37,-1028.78 197.41,-992.45 134.22,-913.19 219.19,-793.32 270.49,-733.59\"/>\n",
       "<polygon fill=\"black\" stroke=\"black\" points=\"272.85,-736.2 276.8,-726.36 267.58,-731.59 272.85,-736.2\"/>\n",
       "</g>\n",
       "<!-- beta_fixed_top_room -->\n",
       "<g id=\"node16\" class=\"node\">\n",
       "<title>beta_fixed_top_room</title>\n",
       "<polygon fill=\"none\" stroke=\"black\" points=\"209.91,-724.82 76.91,-724.82 76.91,-667.32 209.91,-667.32 209.91,-724.82\"/>\n",
       "<text text-anchor=\"middle\" x=\"143.41\" y=\"-707.52\" font-family=\"Times,serif\" font-size=\"14.00\">beta_fixed_top_room</text>\n",
       "<text text-anchor=\"middle\" x=\"143.41\" y=\"-691.02\" font-family=\"Times,serif\" font-size=\"14.00\">~</text>\n",
       "<text text-anchor=\"middle\" x=\"143.41\" y=\"-674.52\" font-family=\"Times,serif\" font-size=\"14.00\">Deterministic</text>\n",
       "</g>\n",
       "<!-- betas_fixed_&#45;&gt;beta_fixed_top_room -->\n",
       "<g id=\"edge13\" class=\"edge\">\n",
       "<title>betas_fixed_&#45;&gt;beta_fixed_top_room</title>\n",
       "<path fill=\"none\" stroke=\"black\" d=\"M433.49,-1055.84C350.14,-1048.57 205.57,-1030.69 171.41,-992.45 107.93,-921.39 121.57,-798.79 134.03,-736.24\"/>\n",
       "<polygon fill=\"black\" stroke=\"black\" points=\"137.39,-737.27 136.01,-726.77 130.54,-735.84 137.39,-737.27\"/>\n",
       "</g>\n",
       "<!-- X -->\n",
       "<g id=\"node7\" class=\"node\">\n",
       "<title>X</title>\n",
       "<path fill=\"lightgrey\" stroke=\"black\" d=\"M858.41,-972.54C858.41,-972.54 828.41,-972.54 828.41,-972.54 822.41,-972.54 816.41,-966.54 816.41,-960.54 816.41,-960.54 816.41,-927.04 816.41,-927.04 816.41,-921.04 822.41,-915.04 828.41,-915.04 828.41,-915.04 858.41,-915.04 858.41,-915.04 864.41,-915.04 870.41,-921.04 870.41,-927.04 870.41,-927.04 870.41,-960.54 870.41,-960.54 870.41,-966.54 864.41,-972.54 858.41,-972.54\"/>\n",
       "<text text-anchor=\"middle\" x=\"843.41\" y=\"-955.24\" font-family=\"Times,serif\" font-size=\"14.00\">X</text>\n",
       "<text text-anchor=\"middle\" x=\"843.41\" y=\"-938.74\" font-family=\"Times,serif\" font-size=\"14.00\">~</text>\n",
       "<text text-anchor=\"middle\" x=\"843.41\" y=\"-922.24\" font-family=\"Times,serif\" font-size=\"14.00\">Data</text>\n",
       "</g>\n",
       "<!-- X&#45;&gt;U -->\n",
       "<g id=\"edge3\" class=\"edge\">\n",
       "<title>X&#45;&gt;U</title>\n",
       "<path fill=\"none\" stroke=\"black\" d=\"M835.82,-914.63C829.98,-898.82 820.17,-880.36 804.41,-870.63 780.01,-855.57 573.22,-872.84 546.41,-862.63 538.71,-859.7 531.29,-855.26 524.51,-850.25\"/>\n",
       "<polygon fill=\"black\" stroke=\"black\" points=\"526.84,-847.63 516.86,-844.09 522.46,-853.09 526.84,-847.63\"/>\n",
       "</g>\n",
       "<!-- likelihood -->\n",
       "<g id=\"node8\" class=\"node\">\n",
       "<title>likelihood</title>\n",
       "<ellipse fill=\"lightgrey\" stroke=\"black\" cx=\"376.41\" cy=\"-174.66\" rx=\"55.33\" ry=\"40.66\"/>\n",
       "<text text-anchor=\"middle\" x=\"376.41\" y=\"-186.11\" font-family=\"Times,serif\" font-size=\"14.00\">likelihood</text>\n",
       "<text text-anchor=\"middle\" x=\"376.41\" y=\"-169.61\" font-family=\"Times,serif\" font-size=\"14.00\">~</text>\n",
       "<text text-anchor=\"middle\" x=\"376.41\" y=\"-153.11\" font-family=\"Times,serif\" font-size=\"14.00\">Categorical</text>\n",
       "</g>\n",
       "<!-- y -->\n",
       "<g id=\"node9\" class=\"node\">\n",
       "<title>y</title>\n",
       "<path fill=\"lightgrey\" stroke=\"black\" d=\"M391.41,-98C391.41,-98 361.41,-98 361.41,-98 355.41,-98 349.41,-92 349.41,-86 349.41,-86 349.41,-52.5 349.41,-52.5 349.41,-46.5 355.41,-40.5 361.41,-40.5 361.41,-40.5 391.41,-40.5 391.41,-40.5 397.41,-40.5 403.41,-46.5 403.41,-52.5 403.41,-52.5 403.41,-86 403.41,-86 403.41,-92 397.41,-98 391.41,-98\"/>\n",
       "<text text-anchor=\"middle\" x=\"376.41\" y=\"-80.7\" font-family=\"Times,serif\" font-size=\"14.00\">y</text>\n",
       "<text text-anchor=\"middle\" x=\"376.41\" y=\"-64.2\" font-family=\"Times,serif\" font-size=\"14.00\">~</text>\n",
       "<text text-anchor=\"middle\" x=\"376.41\" y=\"-47.7\" font-family=\"Times,serif\" font-size=\"14.00\">Data</text>\n",
       "</g>\n",
       "<!-- likelihood&#45;&gt;y -->\n",
       "<g id=\"edge2\" class=\"edge\">\n",
       "<title>likelihood&#45;&gt;y</title>\n",
       "<path fill=\"none\" stroke=\"black\" d=\"M376.41,-133.68C376.41,-125.83 376.41,-117.6 376.41,-109.76\"/>\n",
       "<polygon fill=\"black\" stroke=\"black\" points=\"379.91,-109.79 376.41,-99.79 372.91,-109.79 379.91,-109.79\"/>\n",
       "</g>\n",
       "<!-- U&#45;&gt;p_y_given_central -->\n",
       "<g id=\"edge10\" class=\"edge\">\n",
       "<title>U&#45;&gt;p_y_given_central</title>\n",
       "<path fill=\"none\" stroke=\"black\" d=\"M504.43,-784.95C514.27,-769.4 528.6,-751.16 546.41,-740.82 567.02,-728.86 581.56,-748.59 599.41,-732.82 655.57,-683.21 665.65,-590.06 666.51,-537.07\"/>\n",
       "<polygon fill=\"black\" stroke=\"black\" points=\"670.01,-537.3 666.55,-527.29 663.01,-537.27 670.01,-537.3\"/>\n",
       "</g>\n",
       "<!-- U&#45;&gt;I_central -->\n",
       "<g id=\"edge12\" class=\"edge\">\n",
       "<title>U&#45;&gt;I_central</title>\n",
       "<path fill=\"none\" stroke=\"black\" d=\"M502.97,-784.92C510.14,-770.08 519.05,-751.64 526.85,-735.49\"/>\n",
       "<polygon fill=\"black\" stroke=\"black\" points=\"529.93,-737.16 531.13,-726.63 523.63,-734.11 529.93,-737.16\"/>\n",
       "</g>\n",
       "<!-- U&#45;&gt;I_room -->\n",
       "<g id=\"edge17\" class=\"edge\">\n",
       "<title>U&#45;&gt;I_room</title>\n",
       "<path fill=\"none\" stroke=\"black\" d=\"M476.83,-784.92C470.17,-770.08 461.9,-751.64 454.65,-735.49\"/>\n",
       "<polygon fill=\"black\" stroke=\"black\" points=\"457.97,-734.34 450.69,-726.65 451.59,-737.21 457.97,-734.34\"/>\n",
       "</g>\n",
       "<!-- U&#45;&gt;p_y_given_room -->\n",
       "<g id=\"edge15\" class=\"edge\">\n",
       "<title>U&#45;&gt;p_y_given_room</title>\n",
       "<path fill=\"none\" stroke=\"black\" d=\"M444.17,-812.06C339.68,-808.9 86.49,-794.87 34.41,-732.82 -14.58,-674.43 -7.79,-624.79 34.41,-561.32 53.69,-532.33 88.97,-516.5 120.7,-507.86\"/>\n",
       "<polygon fill=\"black\" stroke=\"black\" points=\"121.42,-511.29 130.27,-505.46 119.72,-504.5 121.42,-511.29\"/>\n",
       "</g>\n",
       "<!-- beta_fixed_top_central&#45;&gt;denom_top -->\n",
       "<g id=\"edge20\" class=\"edge\">\n",
       "<title>beta_fixed_top_central&#45;&gt;denom_top</title>\n",
       "<path fill=\"none\" stroke=\"black\" d=\"M335.19,-667.09C349.09,-655.7 366.23,-643.25 383.41,-634.82 395.8,-628.74 400.72,-632.23 413.41,-626.82 415.19,-626.06 416.99,-625.25 418.78,-624.41\"/>\n",
       "<polygon fill=\"black\" stroke=\"black\" points=\"420.31,-627.56 427.66,-619.92 417.15,-621.31 420.31,-627.56\"/>\n",
       "</g>\n",
       "<!-- beta_fixed_top_central&#45;&gt;P_central -->\n",
       "<g id=\"edge26\" class=\"edge\">\n",
       "<title>beta_fixed_top_central&#45;&gt;P_central</title>\n",
       "<path fill=\"none\" stroke=\"black\" d=\"M325.05,-666.87C346.57,-638.47 382.19,-594.27 418.41,-561.32 425.7,-554.69 441.65,-543.21 458.19,-531.8\"/>\n",
       "<polygon fill=\"black\" stroke=\"black\" points=\"459.87,-534.9 466.14,-526.36 455.91,-529.12 459.87,-534.9\"/>\n",
       "</g>\n",
       "<!-- prod_central_t -->\n",
       "<g id=\"node13\" class=\"node\">\n",
       "<title>prod_central_t</title>\n",
       "<polygon fill=\"none\" stroke=\"black\" points=\"701.79,-427.32 607.04,-427.32 607.04,-369.82 701.79,-369.82 701.79,-427.32\"/>\n",
       "<text text-anchor=\"middle\" x=\"654.41\" y=\"-410.02\" font-family=\"Times,serif\" font-size=\"14.00\">prod_central_t</text>\n",
       "<text text-anchor=\"middle\" x=\"654.41\" y=\"-393.52\" font-family=\"Times,serif\" font-size=\"14.00\">~</text>\n",
       "<text text-anchor=\"middle\" x=\"654.41\" y=\"-377.02\" font-family=\"Times,serif\" font-size=\"14.00\">Deterministic</text>\n",
       "</g>\n",
       "<!-- p_y_given_central&#45;&gt;prod_central_t -->\n",
       "<g id=\"edge31\" class=\"edge\">\n",
       "<title>p_y_given_central&#45;&gt;prod_central_t</title>\n",
       "<path fill=\"none\" stroke=\"black\" d=\"M662.2,-467.54C661.18,-458.65 660.04,-448.64 658.94,-439.1\"/>\n",
       "<polygon fill=\"black\" stroke=\"black\" points=\"662.44,-438.83 657.82,-429.3 655.48,-439.63 662.44,-438.83\"/>\n",
       "</g>\n",
       "<!-- P_ -->\n",
       "<g id=\"node22\" class=\"node\">\n",
       "<title>P_</title>\n",
       "<polygon fill=\"none\" stroke=\"black\" points=\"421.54,-321.32 331.29,-321.32 331.29,-263.82 421.54,-263.82 421.54,-321.32\"/>\n",
       "<text text-anchor=\"middle\" x=\"376.41\" y=\"-304.02\" font-family=\"Times,serif\" font-size=\"14.00\">P_</text>\n",
       "<text text-anchor=\"middle\" x=\"376.41\" y=\"-287.52\" font-family=\"Times,serif\" font-size=\"14.00\">~</text>\n",
       "<text text-anchor=\"middle\" x=\"376.41\" y=\"-271.02\" font-family=\"Times,serif\" font-size=\"14.00\">Deterministic</text>\n",
       "</g>\n",
       "<!-- prod_central_t&#45;&gt;P_ -->\n",
       "<g id=\"edge36\" class=\"edge\">\n",
       "<title>prod_central_t&#45;&gt;P_</title>\n",
       "<path fill=\"none\" stroke=\"black\" d=\"M606.62,-379.69C558.22,-361.58 483.38,-333.58 432.27,-314.46\"/>\n",
       "<polygon fill=\"black\" stroke=\"black\" points=\"433.75,-311.28 423.16,-311.05 431.3,-317.84 433.75,-311.28\"/>\n",
       "</g>\n",
       "<!-- I_central&#45;&gt;denom_top -->\n",
       "<g id=\"edge18\" class=\"edge\">\n",
       "<title>I_central&#45;&gt;denom_top</title>\n",
       "<path fill=\"none\" stroke=\"black\" d=\"M525.66,-666.92C517.38,-655.13 507.64,-641.25 498.76,-628.61\"/>\n",
       "<polygon fill=\"black\" stroke=\"black\" points=\"501.66,-626.65 493.05,-620.47 495.94,-630.67 501.66,-626.65\"/>\n",
       "</g>\n",
       "<!-- I_central&#45;&gt;P_central -->\n",
       "<g id=\"edge23\" class=\"edge\">\n",
       "<title>I_central&#45;&gt;P_central</title>\n",
       "<path fill=\"none\" stroke=\"black\" d=\"M542.41,-666.98C539.28,-639.8 533.78,-597.51 526.41,-561.32 524.78,-553.31 522.74,-544.81 520.64,-536.72\"/>\n",
       "<polygon fill=\"black\" stroke=\"black\" points=\"524.04,-535.86 518.07,-527.1 517.27,-537.67 524.04,-535.86\"/>\n",
       "</g>\n",
       "<!-- I_room&#45;&gt;P_room -->\n",
       "<g id=\"edge29\" class=\"edge\">\n",
       "<title>I_room&#45;&gt;P_room</title>\n",
       "<path fill=\"none\" stroke=\"black\" d=\"M428.66,-667.06C425.08,-654.8 421.14,-640.19 418.41,-626.82 412.32,-596.91 407.93,-562.65 405.14,-536.92\"/>\n",
       "<polygon fill=\"black\" stroke=\"black\" points=\"408.65,-536.83 404.12,-527.25 401.68,-537.56 408.65,-536.83\"/>\n",
       "</g>\n",
       "<!-- I_room&#45;&gt;denom_top -->\n",
       "<g id=\"edge21\" class=\"edge\">\n",
       "<title>I_room&#45;&gt;denom_top</title>\n",
       "<path fill=\"none\" stroke=\"black\" d=\"M446.89,-666.92C450.7,-655.59 455.16,-642.33 459.28,-630.1\"/>\n",
       "<polygon fill=\"black\" stroke=\"black\" points=\"462.58,-631.26 462.45,-620.67 455.95,-629.03 462.58,-631.26\"/>\n",
       "</g>\n",
       "<!-- beta_fixed_top_room&#45;&gt;P_room -->\n",
       "<g id=\"edge30\" class=\"edge\">\n",
       "<title>beta_fixed_top_room&#45;&gt;P_room</title>\n",
       "<path fill=\"none\" stroke=\"black\" d=\"M180.11,-666.98C226.34,-631.59 305.79,-570.77 355.86,-532.44\"/>\n",
       "<polygon fill=\"black\" stroke=\"black\" points=\"357.83,-535.34 363.65,-526.48 353.58,-529.78 357.83,-535.34\"/>\n",
       "</g>\n",
       "<!-- beta_fixed_top_room&#45;&gt;denom_top -->\n",
       "<g id=\"edge22\" class=\"edge\">\n",
       "<title>beta_fixed_top_room&#45;&gt;denom_top</title>\n",
       "<path fill=\"none\" stroke=\"black\" d=\"M173.11,-666.98C187.07,-655.28 204.56,-642.63 222.41,-634.82 239.86,-627.18 347.75,-609.91 415.98,-599.5\"/>\n",
       "<polygon fill=\"black\" stroke=\"black\" points=\"416.12,-603.01 425.48,-598.05 415.07,-596.09 416.12,-603.01\"/>\n",
       "</g>\n",
       "<!-- prod_room_t -->\n",
       "<g id=\"node17\" class=\"node\">\n",
       "<title>prod_room_t</title>\n",
       "<polygon fill=\"none\" stroke=\"black\" points=\"241.54,-427.32 151.29,-427.32 151.29,-369.82 241.54,-369.82 241.54,-427.32\"/>\n",
       "<text text-anchor=\"middle\" x=\"196.41\" y=\"-410.02\" font-family=\"Times,serif\" font-size=\"14.00\">prod_room_t</text>\n",
       "<text text-anchor=\"middle\" x=\"196.41\" y=\"-393.52\" font-family=\"Times,serif\" font-size=\"14.00\">~</text>\n",
       "<text text-anchor=\"middle\" x=\"196.41\" y=\"-377.02\" font-family=\"Times,serif\" font-size=\"14.00\">Deterministic</text>\n",
       "</g>\n",
       "<!-- prod_room_t&#45;&gt;P_ -->\n",
       "<g id=\"edge35\" class=\"edge\">\n",
       "<title>prod_room_t&#45;&gt;P_</title>\n",
       "<path fill=\"none\" stroke=\"black\" d=\"M241.84,-371.32C265.92,-357.41 295.71,-340.19 321.14,-325.51\"/>\n",
       "<polygon fill=\"black\" stroke=\"black\" points=\"322.79,-328.59 329.7,-320.56 319.29,-322.53 322.79,-328.59\"/>\n",
       "</g>\n",
       "<!-- p_y_given_room&#45;&gt;prod_room_t -->\n",
       "<g id=\"edge34\" class=\"edge\">\n",
       "<title>p_y_given_room&#45;&gt;prod_room_t</title>\n",
       "<path fill=\"none\" stroke=\"black\" d=\"M189.33,-467.54C190.26,-458.65 191.3,-448.64 192.3,-439.1\"/>\n",
       "<polygon fill=\"black\" stroke=\"black\" points=\"195.76,-439.61 193.32,-429.3 188.8,-438.88 195.76,-439.61\"/>\n",
       "</g>\n",
       "<!-- P_room&#45;&gt;prod_room_t -->\n",
       "<g id=\"edge33\" class=\"edge\">\n",
       "<title>P_room&#45;&gt;prod_room_t</title>\n",
       "<path fill=\"none\" stroke=\"black\" d=\"M355.92,-474.26C325.26,-459.91 284.64,-440.88 252.06,-425.62\"/>\n",
       "<polygon fill=\"black\" stroke=\"black\" points=\"253.69,-422.53 243.15,-421.46 250.73,-428.87 253.69,-422.53\"/>\n",
       "</g>\n",
       "<!-- denom_top&#45;&gt;P_room -->\n",
       "<g id=\"edge28\" class=\"edge\">\n",
       "<title>denom_top&#45;&gt;P_room</title>\n",
       "<path fill=\"none\" stroke=\"black\" d=\"M450.73,-561.12C444.25,-552.77 437.05,-543.49 430.19,-534.65\"/>\n",
       "<polygon fill=\"black\" stroke=\"black\" points=\"433.04,-532.61 424.14,-526.86 427.51,-536.9 433.04,-532.61\"/>\n",
       "</g>\n",
       "<!-- denom_top&#45;&gt;P_central -->\n",
       "<g id=\"edge25\" class=\"edge\">\n",
       "<title>denom_top&#45;&gt;P_central</title>\n",
       "<path fill=\"none\" stroke=\"black\" d=\"M483.72,-561.12C486.88,-553.3 490.37,-544.65 493.74,-536.33\"/>\n",
       "<polygon fill=\"black\" stroke=\"black\" points=\"496.98,-537.65 497.49,-527.06 490.49,-535.02 496.98,-537.65\"/>\n",
       "</g>\n",
       "<!-- P_central&#45;&gt;prod_central_t -->\n",
       "<g id=\"edge32\" class=\"edge\">\n",
       "<title>P_central&#45;&gt;prod_central_t</title>\n",
       "<path fill=\"none\" stroke=\"black\" d=\"M548.43,-467.42C563.02,-457.1 579.84,-445.48 595.41,-435.32 596.13,-434.85 596.85,-434.38 597.58,-433.91\"/>\n",
       "<polygon fill=\"black\" stroke=\"black\" points=\"599.38,-436.91 605.94,-428.59 595.63,-431 599.38,-436.91\"/>\n",
       "</g>\n",
       "<!-- P_&#45;&gt;likelihood -->\n",
       "<g id=\"edge37\" class=\"edge\">\n",
       "<title>P_&#45;&gt;likelihood</title>\n",
       "<path fill=\"none\" stroke=\"black\" d=\"M376.41,-263.51C376.41,-252.53 376.41,-239.58 376.41,-227.05\"/>\n",
       "<polygon fill=\"black\" stroke=\"black\" points=\"379.91,-227.24 376.41,-217.24 372.91,-227.24 379.91,-227.24\"/>\n",
       "</g>\n",
       "</g>\n",
       "</svg>\n"
      ],
      "text/plain": [
       "<graphviz.graphs.Digraph at 0x162215a50>"
      ]
     },
     "execution_count": 10,
     "metadata": {},
     "output_type": "execute_result"
    }
   ],
   "source": [
    "def make_model(X, y, W, N=900):\n",
    "    with pm.Model(coords=coords) as model:\n",
    "        alphas = pm.Normal('alphas', 0, 1, dims='alts')\n",
    "        betas = pm.Normal('betas', 0, 1, dims=('alt_covariates'))\n",
    "        lambdas_nests = pm.Beta('lambda_nests', 2, 2, dims='nests')\n",
    "        \n",
    "        if W is None:\n",
    "            w_nest = pm.math.zeros((len(coords['obs']), \n",
    "                                    len(coords['alts'])))\n",
    "        else: \n",
    "            W_data = pm.Data('W', W, dims=('obs', 'fixed_covariates'))\n",
    "            betas_fixed_ = pm.Normal('betas_fixed_', 0, 1, dims=('alts', 'fixed_covariates'))\n",
    "            betas_fixed = pm.Deterministic('betas_fixed', pt.set_subtensor(betas_fixed_[-1, :], 0), \n",
    "                    dims=('alts','fixed_covariates'))\n",
    "            w_nest = pm.math.dot(W_data, betas_fixed.T)\n",
    "        X_data = pm.Data('X', X,  dims=('obs', 'alts', 'alt_covariates'))\n",
    "        y_data = pm.Data('y', y, dims='obs')\n",
    "\n",
    "        # Compute utility as a dot product\n",
    "        alphas = pt.set_subtensor(alphas[-1], 0)\n",
    "        u = alphas + pm.math.dot(X_data, betas)\n",
    "        U = pm.Deterministic('U', w_nest + u, dims=('obs', 'alts'))\n",
    "        \n",
    "        # ## Mid Level\n",
    "        if 'mid' in nest_indices.keys():\n",
    "            cond_prob_m, nest_prob_m = make_P_nest(U, W, betas_fixed_, lambdas_nests, 'mid')\n",
    "    \n",
    "            ## Construct Paths Bottom -> Up\n",
    "            child_nests = {}\n",
    "            path_prods_m = {}\n",
    "            ordered = [(key, min(vals)) for key, vals in nest_indices['mid'].items()]\n",
    "            middle_nests = [x[0] for x in sorted(ordered, key=lambda x: x[1])]\n",
    "            for idx, n in enumerate(middle_nests):\n",
    "                is_last = idx == len(middle_nests) - 1\n",
    "                parent, child = n.split('_')\n",
    "                P_nest = nest_prob_m[n]\n",
    "                P_y_given_nest = cond_prob_m[n]['P_y_given']\n",
    "                prod = pm.Deterministic(f'prod_{n}_m', (P_nest[:, pt.newaxis]*P_y_given_nest))\n",
    "                if parent in path_prods_m:\n",
    "                    path_prods_m[parent].append(prod)\n",
    "                else:\n",
    "                    path_prods_m[parent] = []\n",
    "                    path_prods_m[parent].append(prod)\n",
    "                if is_last:\n",
    "                    P_ = pm.Deterministic(f'P_{parent}_children',  pm.math.concatenate(path_prods_m[parent], axis=1))\n",
    "                    child_nests[parent] = P_\n",
    "        else: \n",
    "            child_nests = {}\n",
    "\n",
    "        ## Top Level\n",
    "        cond_prob_t, nest_prob_t = make_P_nest(U, W, betas_fixed_, lambdas_nests, 'top')\n",
    "\n",
    "        path_prods_t = []\n",
    "        ordered = [(key, min(vals)) for key, vals in nest_indices['top'].items()]\n",
    "        top_nests = [x[0] for x in sorted(ordered, key=lambda x: x[1])]\n",
    "        for idx, n in enumerate(top_nests):\n",
    "           P_nest = nest_prob_t[n]\n",
    "           P_y_given_nest = cond_prob_t[n]['P_y_given']\n",
    "           if n in child_nests:\n",
    "               P_y_given_nest_mid = pm.Deterministic(f'P_y_given_nest_mid_{n}', child_nests[n])\n",
    "               prod = pm.Deterministic(f'prod_{n}_t', (P_nest[:, pt.newaxis]*(P_y_given_nest_mid)))\n",
    "           else:\n",
    "               prod = pm.Deterministic(f'prod_{n}_t', (P_nest[:, pt.newaxis]*(P_y_given_nest)))\n",
    "           path_prods_t.append(prod)\n",
    "        P_ = pm.Deterministic('P_', pm.math.concatenate(path_prods_t, axis=1))\n",
    "        \n",
    "        choice_obs = pm.Categorical(\"likelihood\", p=P_, observed=y_data, dims=\"obs\")\n",
    "\n",
    "    return model\n",
    "\n",
    "\n",
    "model = make_model(X, y, W=F)\n",
    "pm.model_to_graphviz(model)"
   ]
  },
  {
   "cell_type": "code",
   "execution_count": 11,
   "metadata": {},
   "outputs": [
    {
     "name": "stderr",
     "output_type": "stream",
     "text": [
      "Sampling: [alphas, betas, betas_fixed_, lambda_nests, likelihood]\n"
     ]
    },
    {
     "data": {
      "application/vnd.jupyter.widget-view+json": {
       "model_id": "a88b78eb9a83459081740fdac3dafa87",
       "version_major": 2,
       "version_minor": 0
      },
      "text/plain": [
       "  0%|          | 0/2000 [00:00<?, ?it/s]"
      ]
     },
     "metadata": {},
     "output_type": "display_data"
    },
    {
     "data": {
      "application/vnd.jupyter.widget-view+json": {
       "model_id": "b9389e2c871f4b9cbacf54bd71230448",
       "version_major": 2,
       "version_minor": 0
      },
      "text/plain": [
       "  0%|          | 0/2000 [00:00<?, ?it/s]"
      ]
     },
     "metadata": {},
     "output_type": "display_data"
    },
    {
     "data": {
      "application/vnd.jupyter.widget-view+json": {
       "model_id": "9e07a4cc8e5343339a21db1a1998b654",
       "version_major": 2,
       "version_minor": 0
      },
      "text/plain": [
       "  0%|          | 0/2000 [00:00<?, ?it/s]"
      ]
     },
     "metadata": {},
     "output_type": "display_data"
    },
    {
     "data": {
      "application/vnd.jupyter.widget-view+json": {
       "model_id": "03fbc0f2bebc4bd3a735c5824a4eccad",
       "version_major": 2,
       "version_minor": 0
      },
      "text/plain": [
       "  0%|          | 0/2000 [00:00<?, ?it/s]"
      ]
     },
     "metadata": {},
     "output_type": "display_data"
    },
    {
     "name": "stderr",
     "output_type": "stream",
     "text": [
      "Sampling: [likelihood]\n"
     ]
    },
    {
     "data": {
      "application/vnd.jupyter.widget-view+json": {
       "model_id": "5b1d369aded64a0a90115464f77f3b6f",
       "version_major": 2,
       "version_minor": 0
      },
      "text/plain": [
       "Output()"
      ]
     },
     "metadata": {},
     "output_type": "display_data"
    },
    {
     "data": {
      "text/html": [
       "<pre style=\"white-space:pre;overflow-x:auto;line-height:normal;font-family:Menlo,'DejaVu Sans Mono',consolas,'Courier New',monospace\"></pre>\n"
      ],
      "text/plain": []
     },
     "metadata": {},
     "output_type": "display_data"
    }
   ],
   "source": [
    "with model: \n",
    "    idata = pm.sample_prior_predictive()\n",
    "    idata.extend(pm.sample(\n",
    "        target_accept=.95,\n",
    "        nuts_sampler='numpyro',\n",
    "        idata_kwargs={\"log_likelihood\": True}, \n",
    "        random_seed=101))\n",
    "    idata.extend(pm.sample_posterior_predictive(idata))\n",
    "    "
   ]
  },
  {
   "cell_type": "code",
   "execution_count": 12,
   "metadata": {},
   "outputs": [
    {
     "data": {
      "text/html": [
       "<div>\n",
       "<style scoped>\n",
       "    .dataframe tbody tr th:only-of-type {\n",
       "        vertical-align: middle;\n",
       "    }\n",
       "\n",
       "    .dataframe tbody tr th {\n",
       "        vertical-align: top;\n",
       "    }\n",
       "\n",
       "    .dataframe thead th {\n",
       "        text-align: right;\n",
       "    }\n",
       "</style>\n",
       "<table border=\"1\" class=\"dataframe\">\n",
       "  <thead>\n",
       "    <tr style=\"text-align: right;\">\n",
       "      <th></th>\n",
       "      <th>mean</th>\n",
       "      <th>sd</th>\n",
       "      <th>hdi_3%</th>\n",
       "      <th>hdi_97%</th>\n",
       "      <th>mcse_mean</th>\n",
       "      <th>mcse_sd</th>\n",
       "      <th>ess_bulk</th>\n",
       "      <th>ess_tail</th>\n",
       "      <th>r_hat</th>\n",
       "    </tr>\n",
       "  </thead>\n",
       "  <tbody>\n",
       "    <tr>\n",
       "      <th>betas[ic]</th>\n",
       "      <td>-0.001</td>\n",
       "      <td>0.001</td>\n",
       "      <td>-0.002</td>\n",
       "      <td>-0.000</td>\n",
       "      <td>0.000</td>\n",
       "      <td>0.000</td>\n",
       "      <td>3278.0</td>\n",
       "      <td>3036.0</td>\n",
       "      <td>1.0</td>\n",
       "    </tr>\n",
       "    <tr>\n",
       "      <th>betas[oc]</th>\n",
       "      <td>-0.005</td>\n",
       "      <td>0.001</td>\n",
       "      <td>-0.008</td>\n",
       "      <td>-0.003</td>\n",
       "      <td>0.000</td>\n",
       "      <td>0.000</td>\n",
       "      <td>2528.0</td>\n",
       "      <td>2867.0</td>\n",
       "      <td>1.0</td>\n",
       "    </tr>\n",
       "    <tr>\n",
       "      <th>alphas[gc]</th>\n",
       "      <td>0.024</td>\n",
       "      <td>0.744</td>\n",
       "      <td>-1.355</td>\n",
       "      <td>1.426</td>\n",
       "      <td>0.016</td>\n",
       "      <td>0.012</td>\n",
       "      <td>2119.0</td>\n",
       "      <td>2434.0</td>\n",
       "      <td>1.0</td>\n",
       "    </tr>\n",
       "    <tr>\n",
       "      <th>alphas[ec]</th>\n",
       "      <td>-0.117</td>\n",
       "      <td>0.751</td>\n",
       "      <td>-1.565</td>\n",
       "      <td>1.236</td>\n",
       "      <td>0.016</td>\n",
       "      <td>0.013</td>\n",
       "      <td>2093.0</td>\n",
       "      <td>2392.0</td>\n",
       "      <td>1.0</td>\n",
       "    </tr>\n",
       "    <tr>\n",
       "      <th>alphas[gr]</th>\n",
       "      <td>0.549</td>\n",
       "      <td>0.315</td>\n",
       "      <td>-0.065</td>\n",
       "      <td>1.131</td>\n",
       "      <td>0.008</td>\n",
       "      <td>0.005</td>\n",
       "      <td>1593.0</td>\n",
       "      <td>2178.0</td>\n",
       "      <td>1.0</td>\n",
       "    </tr>\n",
       "    <tr>\n",
       "      <th>alphas[er]</th>\n",
       "      <td>1.631</td>\n",
       "      <td>0.418</td>\n",
       "      <td>0.881</td>\n",
       "      <td>2.419</td>\n",
       "      <td>0.010</td>\n",
       "      <td>0.006</td>\n",
       "      <td>1811.0</td>\n",
       "      <td>2242.0</td>\n",
       "      <td>1.0</td>\n",
       "    </tr>\n",
       "    <tr>\n",
       "      <th>alphas[hp]</th>\n",
       "      <td>0.012</td>\n",
       "      <td>0.990</td>\n",
       "      <td>-1.775</td>\n",
       "      <td>1.939</td>\n",
       "      <td>0.017</td>\n",
       "      <td>0.018</td>\n",
       "      <td>3484.0</td>\n",
       "      <td>2629.0</td>\n",
       "      <td>1.0</td>\n",
       "    </tr>\n",
       "    <tr>\n",
       "      <th>betas_fixed_[gc, income]</th>\n",
       "      <td>-0.099</td>\n",
       "      <td>0.271</td>\n",
       "      <td>-0.640</td>\n",
       "      <td>0.196</td>\n",
       "      <td>0.012</td>\n",
       "      <td>0.018</td>\n",
       "      <td>746.0</td>\n",
       "      <td>629.0</td>\n",
       "      <td>1.0</td>\n",
       "    </tr>\n",
       "    <tr>\n",
       "      <th>betas_fixed_[ec, income]</th>\n",
       "      <td>-0.094</td>\n",
       "      <td>0.279</td>\n",
       "      <td>-0.645</td>\n",
       "      <td>0.263</td>\n",
       "      <td>0.013</td>\n",
       "      <td>0.018</td>\n",
       "      <td>781.0</td>\n",
       "      <td>592.0</td>\n",
       "      <td>1.0</td>\n",
       "    </tr>\n",
       "    <tr>\n",
       "      <th>betas_fixed_[gr, income]</th>\n",
       "      <td>-0.103</td>\n",
       "      <td>0.060</td>\n",
       "      <td>-0.222</td>\n",
       "      <td>0.005</td>\n",
       "      <td>0.002</td>\n",
       "      <td>0.001</td>\n",
       "      <td>1548.0</td>\n",
       "      <td>1923.0</td>\n",
       "      <td>1.0</td>\n",
       "    </tr>\n",
       "    <tr>\n",
       "      <th>betas_fixed_[er, income]</th>\n",
       "      <td>-0.065</td>\n",
       "      <td>0.062</td>\n",
       "      <td>-0.179</td>\n",
       "      <td>0.050</td>\n",
       "      <td>0.002</td>\n",
       "      <td>0.001</td>\n",
       "      <td>1627.0</td>\n",
       "      <td>2266.0</td>\n",
       "      <td>1.0</td>\n",
       "    </tr>\n",
       "    <tr>\n",
       "      <th>betas_fixed_[hp, income]</th>\n",
       "      <td>-0.029</td>\n",
       "      <td>1.005</td>\n",
       "      <td>-1.807</td>\n",
       "      <td>1.953</td>\n",
       "      <td>0.017</td>\n",
       "      <td>0.017</td>\n",
       "      <td>3618.0</td>\n",
       "      <td>2630.0</td>\n",
       "      <td>1.0</td>\n",
       "    </tr>\n",
       "  </tbody>\n",
       "</table>\n",
       "</div>"
      ],
      "text/plain": [
       "                           mean     sd  hdi_3%  hdi_97%  mcse_mean  mcse_sd  \\\n",
       "betas[ic]                -0.001  0.001  -0.002   -0.000      0.000    0.000   \n",
       "betas[oc]                -0.005  0.001  -0.008   -0.003      0.000    0.000   \n",
       "alphas[gc]                0.024  0.744  -1.355    1.426      0.016    0.012   \n",
       "alphas[ec]               -0.117  0.751  -1.565    1.236      0.016    0.013   \n",
       "alphas[gr]                0.549  0.315  -0.065    1.131      0.008    0.005   \n",
       "alphas[er]                1.631  0.418   0.881    2.419      0.010    0.006   \n",
       "alphas[hp]                0.012  0.990  -1.775    1.939      0.017    0.018   \n",
       "betas_fixed_[gc, income] -0.099  0.271  -0.640    0.196      0.012    0.018   \n",
       "betas_fixed_[ec, income] -0.094  0.279  -0.645    0.263      0.013    0.018   \n",
       "betas_fixed_[gr, income] -0.103  0.060  -0.222    0.005      0.002    0.001   \n",
       "betas_fixed_[er, income] -0.065  0.062  -0.179    0.050      0.002    0.001   \n",
       "betas_fixed_[hp, income] -0.029  1.005  -1.807    1.953      0.017    0.017   \n",
       "\n",
       "                          ess_bulk  ess_tail  r_hat  \n",
       "betas[ic]                   3278.0    3036.0    1.0  \n",
       "betas[oc]                   2528.0    2867.0    1.0  \n",
       "alphas[gc]                  2119.0    2434.0    1.0  \n",
       "alphas[ec]                  2093.0    2392.0    1.0  \n",
       "alphas[gr]                  1593.0    2178.0    1.0  \n",
       "alphas[er]                  1811.0    2242.0    1.0  \n",
       "alphas[hp]                  3484.0    2629.0    1.0  \n",
       "betas_fixed_[gc, income]     746.0     629.0    1.0  \n",
       "betas_fixed_[ec, income]     781.0     592.0    1.0  \n",
       "betas_fixed_[gr, income]    1548.0    1923.0    1.0  \n",
       "betas_fixed_[er, income]    1627.0    2266.0    1.0  \n",
       "betas_fixed_[hp, income]    3618.0    2630.0    1.0  "
      ]
     },
     "execution_count": 12,
     "metadata": {},
     "output_type": "execute_result"
    }
   ],
   "source": [
    "az.summary(idata, var_names=['betas', 'alphas', 'betas_fixed_'])"
   ]
  },
  {
   "cell_type": "code",
   "execution_count": 13,
   "metadata": {},
   "outputs": [
    {
     "data": {
      "text/plain": [
       "<Axes: xlabel='likelihood'>"
      ]
     },
     "execution_count": 13,
     "metadata": {},
     "output_type": "execute_result"
    },
    {
     "data": {
      "image/png": "[encoded data removed]",
      "text/plain": [
       "<Figure size 640x480 with 1 Axes>"
      ]
     },
     "metadata": {},
     "output_type": "display_data"
    }
   ],
   "source": [
    "az.plot_ppc(idata)"
   ]
  },
  {
   "cell_type": "code",
   "execution_count": null,
   "metadata": {},
   "outputs": [],
   "source": [
    "az.plot_energy(idata)"
   ]
  },
  {
   "cell_type": "code",
   "execution_count": null,
   "metadata": {},
   "outputs": [],
   "source": [
    "pd.DataFrame(idata['prior']['p_y_given_room'].mean(dim=('chain', 'draw')).values)"
   ]
  },
  {
   "cell_type": "code",
   "execution_count": null,
   "metadata": {},
   "outputs": [],
   "source": [
    "pd.DataFrame(idata['prior']['p_y_given_central'].mean(dim=('chain', 'draw')).values)"
   ]
  },
  {
   "cell_type": "code",
   "execution_count": null,
   "metadata": {},
   "outputs": [],
   "source": [
    "w_nest = pd.DataFrame(idata['prior']['w_nest'].mean(dim=('chain', 'draw')).values)\n",
    "w_nest \n",
    "\n",
    "a = np.exp(w_nest + (idata['prior']['I_room'][0, 0]*idata['prior']['lambda_nests'][0, 0, 0]).item())\n",
    "\n",
    "b = np.exp(w_nest + (idata['prior']['I_room'][0, 0]*idata['prior']['lambda_nests'][0, 0, 0]).item())\n",
    "\n",
    "np.sum([np.sum(a, axis=1) , np.sum(a, axis=1)], axis=0)\n",
    "a\n",
    "\n"
   ]
  },
  {
   "cell_type": "code",
   "execution_count": null,
   "metadata": {},
   "outputs": [],
   "source": [
    "pd.DataFrame(idata['prior']['denom_mid'].mean(dim=('chain', 'draw')).values).round(2)"
   ]
  },
  {
   "cell_type": "code",
   "execution_count": null,
   "metadata": {},
   "outputs": [],
   "source": [
    "pd.DataFrame(idata['prior']['P_room'].mean(dim=('chain', 'draw')).values)"
   ]
  },
  {
   "cell_type": "code",
   "execution_count": null,
   "metadata": {},
   "outputs": [],
   "source": [
    "pd.DataFrame(idata['prior']['P_'].mean(dim=('chain', 'draw')).values).sum(axis=1)"
   ]
  },
  {
   "cell_type": "code",
   "execution_count": null,
   "metadata": {},
   "outputs": [],
   "source": [
    "model.debug()"
   ]
  },
  {
   "cell_type": "code",
   "execution_count": null,
   "metadata": {},
   "outputs": [],
   "source": [
    "idata['prior']['P_central'].mean(dim=('chain', 'draw'))\n"
   ]
  },
  {
   "cell_type": "code",
   "execution_count": null,
   "metadata": {},
   "outputs": [],
   "source": [
    "az.summary(idata, var_names=['alphas', 'betas', 'betas_fixed'])\n",
    "\n",
    "#az.summary(idata, var_names=['alphas', 'betas'])"
   ]
  },
  {
   "cell_type": "code",
   "execution_count": null,
   "metadata": {},
   "outputs": [],
   "source": [
    "az.plot_energy(idata)"
   ]
  },
  {
   "cell_type": "code",
   "execution_count": null,
   "metadata": {},
   "outputs": [],
   "source": [
    "az.plot_trace(idata, var_names=['betas', 'alphas', 'betas_fixed']);"
   ]
  },
  {
   "cell_type": "markdown",
   "metadata": {},
   "source": [
    "## 2 Level Nesting"
   ]
  },
  {
   "cell_type": "code",
   "execution_count": null,
   "metadata": {},
   "outputs": [],
   "source": [
    "def make_nested_logit(X, y, coords, nest_indices, N, X_fixed=None):\n",
    "\n",
    "    with pm.Model(coords=coords) as nested_model:\n",
    "        alphas = pm.Normal('alphas', 0, 5, dims='alts')\n",
    "        betas = pm.Normal('betas', 0, 1, dims=('covariates'))\n",
    "        lambdas_nests = pm.Beta('lambda_nests', 2, 2, dims='nests')\n",
    "\n",
    "        ## Nest Fixed values like income\n",
    "        if X_fixed is None: \n",
    "            W = pm.math.zeros(N)\n",
    "        else: \n",
    "            W_data = pm.Data('W', X_fixed, dims=('obs', 'fixed_covariates'))\n",
    "            betas_fixed_ = pm.Normal('betas_fixed_', 0, 1, dims=('alts', 'fixed_covariates'))\n",
    "            betas_fixed = pm.Deterministic('betas_fixed', pt.set_subtensor(betas_fixed_[-1, :], 0), \n",
    "                dims=('alts','fixed_covariates'))\n",
    "            W = pm.Deterministic('w_nest', pm.math.dot(W_data, betas_fixed.T))\n",
    "\n",
    "        X = pm.MutableData('X', X, dims=('obs', 'alts', 'covariates'))\n",
    "        y = pm.MutableData('y', y, dims='obs')\n",
    "\n",
    "        alphas = pt.set_subtensor(alphas[-1], 0)\n",
    "        U = pm.Deterministic('U', \n",
    "            (alphas + pm.math.dot(X, betas)), \n",
    "            dims=('obs', 'alts'))\n",
    "\n",
    "        U = pm.Deterministic('U + W', W + U)\n",
    "\n",
    "        \n",
    "        ## Create Nest Specific Probabilities\n",
    "        nest_probabilities = []\n",
    "        mprob_nest = {}\n",
    "        for i, n in enumerate(nest_indices.keys()) :\n",
    "            u = U[:, nest_indices[f'{n}']]\n",
    "            y_nest = pm.Deterministic(f'y_{n}', u, \n",
    "                dims=('obs', f'{n}_alts'))\n",
    "            if len(nest_indices[f'{n}']) > 1:\n",
    "                max_y_nest = pm.math.max(y_nest, axis=0)\n",
    "                s = pm.math.softmax(y_nest / lambdas_nests[i], axis=1)\n",
    "                P_y_given_nest = pm.Deterministic(f'p_y_given_{n}', s, \n",
    "                    dims = ('obs', f'{n}_alts')) \n",
    "            else: \n",
    "                max_y_nest = pm.math.max(y_nest)\n",
    "                ones = pm.math.ones((N, 1))\n",
    "                P_y_given_nest = pm.Deterministic(f'p_y_given_{n}', ones)\n",
    "            lsexp = pm.math.logsumexp((y_nest - max_y_nest)/lambdas_nests[i])\n",
    "            I_nest = pm.Deterministic(f'I_{n}', lsexp)\n",
    "\n",
    "            W_nest = W + I_nest*lambdas_nests[i]\n",
    "            exp_W_nest = pm.Deterministic(f'exp_W_{n}', pm.math.exp(W_nest))\n",
    "            nest_probabilities.append(exp_W_nest)\n",
    "            mprob_nest[n] = P_y_given_nest\n",
    "\n",
    "        ## Define Conditional Probability\n",
    "        final_stack = []\n",
    "        for n, np in zip(nest_indices.keys(), nest_probabilities): \n",
    "            P_nest =  pm.Deterministic(f'P_{n}', \n",
    "                (np / pm.math.sum(nest_probabilities, axis=0)), \n",
    "                dims=('obs', 'alts'))\n",
    "            prod = (mprob_nest[n]*P_nest[:, nest_indices[n]])\n",
    "            P_y_nest = pm.Deterministic(f'P_y_{n}', prod)\n",
    "            final_stack.append(P_y_nest)\n",
    "\n",
    "        # Stack into probability matrix\n",
    "        final_stack = pm.math.concatenate(final_stack, axis=1)\n",
    "        p_ = pm.Deterministic('p', final_stack, dims=('obs', 'alts'))\n",
    "        \n",
    "        choice_obs = pm.Categorical(\"likelihood\", p=p_, observed=y, dims=\"obs\")\n",
    "\n",
    "    return nested_model\n",
    "\n",
    "nested_model = make_nested_logit(X, y, coords, nest_indices, N, F)\n",
    "pm.model_to_graphviz(nested_model)\n"
   ]
  },
  {
   "cell_type": "code",
   "execution_count": null,
   "metadata": {},
   "outputs": [],
   "source": [
    "with nested_model: \n",
    "    idata = pm.sample_prior_predictive()\n",
    "    idata.extend(pm.sample(\n",
    "        target_accept=.97,\n",
    "        nuts_sampler='numpyro',\n",
    "        idata_kwargs={\"log_likelihood\": True}, \n",
    "        random_seed=101))"
   ]
  },
  {
   "cell_type": "code",
   "execution_count": null,
   "metadata": {},
   "outputs": [],
   "source": [
    "az.summary(idata, var_names=['betas', 'alphas', 'betas_fixed'])"
   ]
  }
 ],
 "metadata": {
  "kernelspec": {
   "display_name": "pymc-marketing-dev",
   "language": "python",
   "name": "python3"
  },
  "language_info": {
   "codemirror_mode": {
    "name": "ipython",
    "version": 3
   },
   "file_extension": ".py",
   "mimetype": "text/x-python",
   "name": "python",
   "nbconvert_exporter": "python",
   "pygments_lexer": "ipython3",
   "version": "3.10.17"
  }
 },
 "nbformat": 4,
 "nbformat_minor": 2
}
